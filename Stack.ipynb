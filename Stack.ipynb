{
 "cells": [
  {
   "cell_type": "code",
   "execution_count": 1,
   "id": "5c74865e",
   "metadata": {},
   "outputs": [],
   "source": [
    "#Stack Class"
   ]
  },
  {
   "cell_type": "code",
   "execution_count": 3,
   "id": "025654ad",
   "metadata": {},
   "outputs": [],
   "source": [
    "class Stack():\n",
    "    def __init__(self):\n",
    "        self.stack = list()\n",
    "        \n",
    "    def push(self,item):\n",
    "        self.stack.append(item)\n",
    "        \n",
    "    def peek(self):\n",
    "        return self.stack[-1]\n",
    "    \n",
    "    def pop(self):\n",
    "        if len(self.stack) > 0:\n",
    "            return self.stack.pop()\n",
    "        else:\n",
    "            return None\n",
    "    def __str__(self):\n",
    "        return str(self.stack)"
   ]
  },
  {
   "cell_type": "code",
   "execution_count": 4,
   "id": "b86ee3e1",
   "metadata": {},
   "outputs": [
    {
     "name": "stdout",
     "output_type": "stream",
     "text": [
      "[1, 4, 2, 6, 8]\n",
      "8\n",
      "8\n",
      "[1, 4, 2, 6]\n"
     ]
    }
   ],
   "source": [
    "stack = Stack()\n",
    "for i in [1,4,2,6,8]:\n",
    "    stack.push(i)\n",
    "    \n",
    "print(stack)\n",
    "print(stack.peek())\n",
    "print(stack.pop())\n",
    "print(stack)"
   ]
  },
  {
   "cell_type": "code",
   "execution_count": 6,
   "id": "0248fb3d",
   "metadata": {},
   "outputs": [
    {
     "data": {
      "text/plain": [
       "\"[1, 4, 2, '6']\""
      ]
     },
     "execution_count": 6,
     "metadata": {},
     "output_type": "execute_result"
    }
   ],
   "source": [
    "str([1, 4, 2, 6])"
   ]
  },
  {
   "cell_type": "code",
   "execution_count": 7,
   "id": "afae3b3a",
   "metadata": {},
   "outputs": [
    {
     "data": {
      "text/plain": [
       "4"
      ]
     },
     "execution_count": 7,
     "metadata": {},
     "output_type": "execute_result"
    }
   ],
   "source": [
    "max([1,2,3,4])"
   ]
  },
  {
   "cell_type": "code",
   "execution_count": 11,
   "id": "c5f7514a",
   "metadata": {},
   "outputs": [
    {
     "name": "stdout",
     "output_type": "stream",
     "text": [
      "6\n"
     ]
    }
   ],
   "source": [
    "lst = [1, 4, 2, 6]\n",
    "a = lst.pop()\n",
    "k =a\n",
    "print(a)"
   ]
  },
  {
   "cell_type": "code",
   "execution_count": 12,
   "id": "005e655e",
   "metadata": {},
   "outputs": [
    {
     "data": {
      "text/plain": [
       "[1, 4, 2]"
      ]
     },
     "execution_count": 12,
     "metadata": {},
     "output_type": "execute_result"
    }
   ],
   "source": [
    "lst"
   ]
  },
  {
   "cell_type": "code",
   "execution_count": 16,
   "id": "9630662a",
   "metadata": {},
   "outputs": [],
   "source": [
    "\n",
    "def equalStacks(h1, h2, h3):\n",
    "    h11 = []\n",
    "    h22 = []\n",
    "    h33 = []\n",
    "    \n",
    "    for i in range(0, len(h1)):\n",
    "        index = len(h1) - (i + 1)\n",
    "        if index == len(h1) - 1:\n",
    "            h11.append(h1[index])\n",
    "        else:\n",
    "            h11.append(h11[i - 1] + h1[index]) \n",
    "            \n",
    "    h11 = set(h11) \n",
    "    \n",
    "    for i in range(0, len(h2)):\n",
    "        index = len(h2) - (i + 1)\n",
    "        if index == len(h2) - 1:\n",
    "            h22.append(h2[index])\n",
    "        else:\n",
    "            h22.append(h22[i - 1] + h2[index]) \n",
    "            \n",
    "    h22 = set(h22)\n",
    "    \n",
    "    for i in range(0, len(h3)):\n",
    "        index = len(h3) - (i + 1)\n",
    "        if index == len(h3) - 1:\n",
    "            h33.append(h3[index])\n",
    "        else:\n",
    "            h33.append(h33[i - 1] + h3[index]) \n",
    "            \n",
    "    h33 = set(h33)   \n",
    "    \n",
    "    common = h11.intersection(h22)\n",
    "    common = common.intersection(h33)\n",
    "    \n",
    "    if common:\n",
    "        return max(common)\n",
    "    else:\n",
    "        return 0"
   ]
  },
  {
   "cell_type": "code",
   "execution_count": 17,
   "id": "60419182",
   "metadata": {},
   "outputs": [],
   "source": [
    "h1 = [1,2,3,4,5]\n",
    "h2 = [2,1,3,4,1]\n",
    "h3 = []"
   ]
  },
  {
   "cell_type": "code",
   "execution_count": 18,
   "id": "63b02c09",
   "metadata": {},
   "outputs": [
    {
     "data": {
      "text/plain": [
       "0"
      ]
     },
     "execution_count": 18,
     "metadata": {},
     "output_type": "execute_result"
    }
   ],
   "source": [
    "equalStacks(h1, h2, h3)"
   ]
  },
  {
   "cell_type": "code",
   "execution_count": null,
   "id": "bea6aeb3",
   "metadata": {},
   "outputs": [],
   "source": []
  }
 ],
 "metadata": {
  "kernelspec": {
   "display_name": "Python 3",
   "language": "python",
   "name": "python3"
  },
  "language_info": {
   "codemirror_mode": {
    "name": "ipython",
    "version": 3
   },
   "file_extension": ".py",
   "mimetype": "text/x-python",
   "name": "python",
   "nbconvert_exporter": "python",
   "pygments_lexer": "ipython3",
   "version": "3.7.10"
  }
 },
 "nbformat": 4,
 "nbformat_minor": 5
}
