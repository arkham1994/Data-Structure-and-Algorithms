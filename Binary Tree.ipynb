{
 "cells": [
  {
   "cell_type": "code",
   "execution_count": 1,
   "id": "60a24517",
   "metadata": {},
   "outputs": [],
   "source": [
    "class Tree:\n",
    "    def __init__(self, data, left = None, right = None):\n",
    "        self.data = data\n",
    "        self.left = left\n",
    "        self.right = right\n",
    "        \n",
    "    def insert(self, data):\n",
    "        if self.data == data:\n",
    "            return False\n",
    "        elif data < self.data:\n",
    "            if self.left is not None:\n",
    "                return self.left.insert(data)\n",
    "            else:\n",
    "                self.left = Tree(data)\n",
    "                return True\n",
    "        else:\n",
    "            if self.right is not None:\n",
    "                return self.right.insert(data)\n",
    "            else:\n",
    "                self.right = Tree(data)\n",
    "                return True\n",
    "            \n",
    "    def find(self, data):\n",
    "        if self.data == data:\n",
    "            return data\n",
    "        elif data < self.data:\n",
    "            if self.left is None:\n",
    "                return False\n",
    "            else:\n",
    "                return self.left.find(data)\n",
    "            \n",
    "        else:\n",
    "            if self.right is None:\n",
    "                return False\n",
    "            else:\n",
    "                return self.right.find(data)   \n",
    "            \n",
    "    \n",
    "    def get_size(self):\n",
    "        if self.left is not None and self.right is not None:\n",
    "            return 1 + self.left.get_size() + self.right.get_size()\n",
    "        elif self.left is not None:\n",
    "            return 1 + self.left.get_size()\n",
    "        elif self.right is not None:\n",
    "            return 1 + self.right.get_size()\n",
    "        else:\n",
    "            return 1\n",
    "        \n",
    "    def preorder(self):\n",
    "        if self is not None:\n",
    "            print(self.data, end = ' ')\n",
    "            if self.left is not None:\n",
    "                self.left.preorder()\n",
    "            if self.right is not None:\n",
    "                self.right.preorder()   \n",
    "                \n",
    "    def inorder(self):\n",
    "        if self is not None:\n",
    "            \n",
    "            if self.left is not None:\n",
    "                self.left.inorder()\n",
    "            print(self.data, end = ' ')    \n",
    "            if self.right is not None:\n",
    "                self.right.inorder()            \n",
    "                \n",
    "    "
   ]
  },
  {
   "cell_type": "code",
   "execution_count": 2,
   "id": "13c11628",
   "metadata": {},
   "outputs": [
    {
     "name": "stdout",
     "output_type": "stream",
     "text": [
      "False 1 2 3 4 False 6 7 False 9 10 11 12 13 14 15 \n",
      " 13\n",
      "7 2 1 3 6 4 9 15 10 12 11 13 14 \n",
      "1 2 3 4 6 7 9 10 11 12 13 14 15 \n"
     ]
    }
   ],
   "source": [
    "tree = Tree(7)\n",
    "tree.insert(9)\n",
    "for i in [15,10,2,12,3,1,13,6,11,4,14,9]:\n",
    "    tree.insert(i)\n",
    "for i in range(16):\n",
    "    print(tree.find(i), end =' ')\n",
    "print('\\n', tree.get_size())\n",
    "\n",
    "tree.preorder()\n",
    "print()\n",
    "tree.inorder()\n",
    "print()"
   ]
  },
  {
   "cell_type": "code",
   "execution_count": 4,
   "id": "5c4a446c",
   "metadata": {},
   "outputs": [],
   "source": [
    " def jk(a):\n",
    "        if a == 4:\n",
    "            return\n",
    "        else:\n",
    "            print('hello not 4')\n",
    "        return 5    "
   ]
  },
  {
   "cell_type": "code",
   "execution_count": 6,
   "id": "178dd7ee",
   "metadata": {},
   "outputs": [],
   "source": [
    "jk(4)"
   ]
  },
  {
   "cell_type": "code",
   "execution_count": null,
   "id": "b3f4dd08",
   "metadata": {},
   "outputs": [],
   "source": []
  }
 ],
 "metadata": {
  "kernelspec": {
   "display_name": "Python 3",
   "language": "python",
   "name": "python3"
  },
  "language_info": {
   "codemirror_mode": {
    "name": "ipython",
    "version": 3
   },
   "file_extension": ".py",
   "mimetype": "text/x-python",
   "name": "python",
   "nbconvert_exporter": "python",
   "pygments_lexer": "ipython3",
   "version": "3.7.3"
  }
 },
 "nbformat": 4,
 "nbformat_minor": 5
}
