{
 "cells": [
  {
   "cell_type": "code",
   "execution_count": 1,
   "id": "864be961",
   "metadata": {},
   "outputs": [],
   "source": [
    "# Reverse an Array\n"
   ]
  },
  {
   "cell_type": "code",
   "execution_count": 2,
   "id": "07dd2775",
   "metadata": {},
   "outputs": [],
   "source": [
    "arr = [1,2,3,4,5]\n"
   ]
  },
  {
   "cell_type": "code",
   "execution_count": 3,
   "id": "66f79153",
   "metadata": {},
   "outputs": [],
   "source": [
    "def reverse_array(arr):\n",
    "    i = 0\n",
    "    j = len(arr) - 1\n",
    "    while i < j:\n",
    "        temp = arr[i]\n",
    "        arr[i] = arr[j]\n",
    "        arr[j] = temp\n",
    "        i += 1\n",
    "        j -= 1\n",
    "    return arr    \n",
    "    "
   ]
  },
  {
   "cell_type": "code",
   "execution_count": 4,
   "id": "f7f2322f",
   "metadata": {},
   "outputs": [
    {
     "data": {
      "text/plain": [
       "[5, 4, 3, 2, 1]"
      ]
     },
     "execution_count": 4,
     "metadata": {},
     "output_type": "execute_result"
    }
   ],
   "source": [
    "reverse_array(arr)"
   ]
  },
  {
   "cell_type": "code",
   "execution_count": 5,
   "id": "b167ea6b",
   "metadata": {},
   "outputs": [],
   "source": [
    "# Array is Palindrome or not\n",
    "test_case1 = [1,2,3,4,5]\n",
    "test_case2 = [4,6,7,6,4]\n",
    "test_case3 = [1,4,7,7,4,1]\n",
    "test_case4 = [5]"
   ]
  },
  {
   "cell_type": "code",
   "execution_count": 6,
   "id": "54902d38",
   "metadata": {},
   "outputs": [],
   "source": [
    "def is_palindrome(arr):\n",
    "    i = 0\n",
    "    j = len(arr) - 1\n",
    "    while i < j:\n",
    "        if arr[i] != arr[j]:\n",
    "            return False\n",
    "        i += 1\n",
    "        j -= 1\n",
    "    return True "
   ]
  },
  {
   "cell_type": "code",
   "execution_count": 7,
   "id": "0fa4b80b",
   "metadata": {},
   "outputs": [
    {
     "data": {
      "text/plain": [
       "False"
      ]
     },
     "execution_count": 7,
     "metadata": {},
     "output_type": "execute_result"
    }
   ],
   "source": [
    "is_palindrome(test_case1)"
   ]
  },
  {
   "cell_type": "code",
   "execution_count": 8,
   "id": "3a98990f",
   "metadata": {},
   "outputs": [
    {
     "data": {
      "text/plain": [
       "True"
      ]
     },
     "execution_count": 8,
     "metadata": {},
     "output_type": "execute_result"
    }
   ],
   "source": [
    "is_palindrome(test_case2)"
   ]
  },
  {
   "cell_type": "code",
   "execution_count": 9,
   "id": "6a17feab",
   "metadata": {},
   "outputs": [
    {
     "data": {
      "text/plain": [
       "True"
      ]
     },
     "execution_count": 9,
     "metadata": {},
     "output_type": "execute_result"
    }
   ],
   "source": [
    "is_palindrome(test_case3)"
   ]
  },
  {
   "cell_type": "code",
   "execution_count": 10,
   "id": "29b6ea3b",
   "metadata": {},
   "outputs": [
    {
     "data": {
      "text/plain": [
       "True"
      ]
     },
     "execution_count": 10,
     "metadata": {},
     "output_type": "execute_result"
    }
   ],
   "source": [
    "is_palindrome(test_case4)"
   ]
  },
  {
   "cell_type": "code",
   "execution_count": 11,
   "id": "2a5c61ba",
   "metadata": {},
   "outputs": [],
   "source": [
    "# Array is Sorted or Not"
   ]
  },
  {
   "cell_type": "code",
   "execution_count": 28,
   "id": "a32771bd",
   "metadata": {},
   "outputs": [],
   "source": [
    "\n",
    "test_case1 = [1,2,3,4,5]\n",
    "test_case2 = [4,6,7,6,4]\n",
    "test_case3 = [1,4,7,7,4,1]\n",
    "test_case4 = [5]\n",
    "test_case5 = [5,4,3,2]\n",
    "test_case6 = [1,1,1,1]\n",
    "test_case7 = [1,1,1,2]\n"
   ]
  },
  {
   "cell_type": "code",
   "execution_count": 22,
   "id": "d8027c77",
   "metadata": {},
   "outputs": [],
   "source": [
    "def is_sorted(lst):\n",
    "    length = len(lst)\n",
    "    if length <=1:\n",
    "        return True\n",
    "        \n",
    "    i = 1\n",
    "    while i < length:\n",
    "        if lst[i] >= lst[i-1]:\n",
    "            i = i + 1\n",
    "        else:\n",
    "            break\n",
    "    \n",
    "    if i == length:\n",
    "        return True\n",
    "    \n",
    "    else:\n",
    "        i = 1\n",
    "        while i < length:\n",
    "            if lst[i] <= lst[i-1]:\n",
    "                i = i + 1\n",
    "            else:\n",
    "                break\n",
    "        if i == length:\n",
    "            return True\n",
    "    return False    \n",
    "        "
   ]
  },
  {
   "cell_type": "code",
   "execution_count": 32,
   "id": "384f40eb",
   "metadata": {},
   "outputs": [
    {
     "data": {
      "text/plain": [
       "(True, False, False, True, True)"
      ]
     },
     "execution_count": 32,
     "metadata": {},
     "output_type": "execute_result"
    }
   ],
   "source": [
    "is_sorted(test_case1),is_sorted(test_case2),is_sorted(test_case3),is_sorted(test_case4),is_sorted(test_case5)\n"
   ]
  },
  {
   "cell_type": "code",
   "execution_count": 33,
   "id": "1bd27290",
   "metadata": {},
   "outputs": [
    {
     "data": {
      "text/plain": [
       "(True, True)"
      ]
     },
     "execution_count": 33,
     "metadata": {},
     "output_type": "execute_result"
    }
   ],
   "source": [
    "is_sorted(test_case6),is_sorted(test_case7)\n"
   ]
  },
  {
   "cell_type": "code",
   "execution_count": 34,
   "id": "80cc43da",
   "metadata": {},
   "outputs": [],
   "source": [
    "# Right Rotate an array n times\n",
    "# e.g lst = [1,2,3,4]\n",
    "# right rotate lst 2 times -->> [1,2,3,4] -->>[3,4,1,2]"
   ]
  },
  {
   "cell_type": "code",
   "execution_count": 53,
   "id": "d49a2465",
   "metadata": {},
   "outputs": [],
   "source": [
    "def right_array(n, arr):\n",
    "    length = len(arr)\n",
    "    k = n % length\n",
    "    if n ==0 or k == 0:\n",
    "        return arr\n",
    "    temp_arr = arr[-1*k:]\n",
    "    for i in range(0, length - k):\n",
    "        index = length - k -(i+1)\n",
    "        arr[index + k] = arr[index]\n",
    "    for i in range(0,k):\n",
    "        arr[i] = temp_arr[i]\n",
    "    return arr    "
   ]
  },
  {
   "cell_type": "code",
   "execution_count": 54,
   "id": "a9167d11",
   "metadata": {},
   "outputs": [
    {
     "data": {
      "text/plain": [
       "[5, 6, 1, 2, 3, 4]"
      ]
     },
     "execution_count": 54,
     "metadata": {},
     "output_type": "execute_result"
    }
   ],
   "source": [
    "right_array(2,[1,2,3,4,5,6])"
   ]
  },
  {
   "cell_type": "code",
   "execution_count": 55,
   "id": "9f2a288d",
   "metadata": {},
   "outputs": [
    {
     "data": {
      "text/plain": [
       "[4, 5, 6, 1, 2, 3]"
      ]
     },
     "execution_count": 55,
     "metadata": {},
     "output_type": "execute_result"
    }
   ],
   "source": [
    "right_array(3,[1,2,3,4,5,6])"
   ]
  },
  {
   "cell_type": "code",
   "execution_count": 56,
   "id": "55c9e2ec",
   "metadata": {},
   "outputs": [
    {
     "data": {
      "text/plain": [
       "[1, 2, 3, 4, 5, 6]"
      ]
     },
     "execution_count": 56,
     "metadata": {},
     "output_type": "execute_result"
    }
   ],
   "source": [
    "right_array(6,[1,2,3,4,5,6])\n"
   ]
  },
  {
   "cell_type": "code",
   "execution_count": 57,
   "id": "94cdcd47",
   "metadata": {},
   "outputs": [
    {
     "data": {
      "text/plain": [
       "[1, 2, 3, 4, 5, 6]"
      ]
     },
     "execution_count": 57,
     "metadata": {},
     "output_type": "execute_result"
    }
   ],
   "source": [
    "right_array(0,[1,2,3,4,5,6])"
   ]
  },
  {
   "cell_type": "code",
   "execution_count": 58,
   "id": "2d9ea290",
   "metadata": {},
   "outputs": [
    {
     "data": {
      "text/plain": [
       "[6, 1, 2, 3, 4, 5]"
      ]
     },
     "execution_count": 58,
     "metadata": {},
     "output_type": "execute_result"
    }
   ],
   "source": [
    "right_array(7,[1,2,3,4,5,6])"
   ]
  },
  {
   "cell_type": "code",
   "execution_count": 1,
   "id": "3294b3ce",
   "metadata": {},
   "outputs": [
    {
     "data": {
      "text/plain": [
       "[1, 4]"
      ]
     },
     "execution_count": 1,
     "metadata": {},
     "output_type": "execute_result"
    }
   ],
   "source": [
    "arr = [1,2]\n",
    "arr[1] = 4\n",
    "arr"
   ]
  },
  {
   "cell_type": "code",
   "execution_count": 60,
   "id": "960eab15",
   "metadata": {},
   "outputs": [],
   "source": [
    "# Insert item at the kth position in an unsorted array"
   ]
  },
  {
   "cell_type": "code",
   "execution_count": 12,
   "id": "9ab44068",
   "metadata": {},
   "outputs": [],
   "source": [
    "def insert(pos,item, arr):\n",
    "    length = len(arr)\n",
    "    arr.append(0)\n",
    "    if pos <= 0 or pos > length + 1 :\n",
    "        return False\n",
    "    index = length - 1\n",
    "    while index >= pos - 1:\n",
    "        arr[index + 1] = arr[index]\n",
    "        index = index - 1\n",
    "    arr[pos - 1] = item\n",
    "    return arr\n",
    "        "
   ]
  },
  {
   "cell_type": "code",
   "execution_count": 13,
   "id": "d1cc9e7a",
   "metadata": {},
   "outputs": [
    {
     "data": {
      "text/plain": [
       "False"
      ]
     },
     "execution_count": 13,
     "metadata": {},
     "output_type": "execute_result"
    }
   ],
   "source": [
    "insert(,0,[1,2,3,4,5])"
   ]
  },
  {
   "cell_type": "code",
   "execution_count": 14,
   "id": "c5f0bf28",
   "metadata": {},
   "outputs": [],
   "source": [
    "# Insert item in a sorted array (ascending)\n",
    "# item = 35, arr = [1,4,10,25,50,60]\n",
    "# after insertion -->> [1,4,10,25,35,50,60]"
   ]
  },
  {
   "cell_type": "code",
   "execution_count": 24,
   "id": "556f85ed",
   "metadata": {},
   "outputs": [],
   "source": [
    "def insert_sorted(item, arr):\n",
    "    if len(arr)==0:\n",
    "        arr.append(item)\n",
    "        return arr\n",
    "    arr.append(0)\n",
    "    index = len(arr) - 2\n",
    "    while index >=0:\n",
    "        if arr[index] > item:\n",
    "            arr[index + 1] = arr[index]\n",
    "            index = index - 1\n",
    "        else:\n",
    "            break\n",
    "    arr[index + 1] = item\n",
    "    return arr\n",
    "        "
   ]
  },
  {
   "cell_type": "code",
   "execution_count": 26,
   "id": "95c374bd",
   "metadata": {},
   "outputs": [
    {
     "data": {
      "text/plain": [
       "[1, 2, 56, 61, 78, 90]"
      ]
     },
     "execution_count": 26,
     "metadata": {},
     "output_type": "execute_result"
    }
   ],
   "source": [
    "insert_sorted(61,[1,2,56,78,90])"
   ]
  },
  {
   "cell_type": "code",
   "execution_count": 27,
   "id": "ec42e31a",
   "metadata": {},
   "outputs": [
    {
     "data": {
      "text/plain": [
       "[1, 2, 56, 56, 78, 90]"
      ]
     },
     "execution_count": 27,
     "metadata": {},
     "output_type": "execute_result"
    }
   ],
   "source": [
    "insert_sorted(56,[1,2,56,78,90])"
   ]
  },
  {
   "cell_type": "code",
   "execution_count": 28,
   "id": "e4887802",
   "metadata": {},
   "outputs": [],
   "source": [
    "# Insert item in a sorted array (descending)\n",
    "# item = 30, arr = [60,56,35,25,2,1]\n",
    "# after insertion -->> [60,56,35,30,25,2,1]"
   ]
  },
  {
   "cell_type": "code",
   "execution_count": 29,
   "id": "10fda9e7",
   "metadata": {},
   "outputs": [],
   "source": [
    "def insert_sorted_desc(item, arr):\n",
    "    if len(arr)==0:\n",
    "        arr.append(item)\n",
    "        return arr\n",
    "    arr.append(0)\n",
    "    index = len(arr) - 2\n",
    "    while index >=0:\n",
    "        if arr[index] < item:\n",
    "            arr[index + 1] = arr[index]\n",
    "            index = index - 1\n",
    "        else:\n",
    "            break\n",
    "    arr[index + 1] = item\n",
    "    return arr"
   ]
  },
  {
   "cell_type": "code",
   "execution_count": 30,
   "id": "6cf54b7f",
   "metadata": {},
   "outputs": [
    {
     "data": {
      "text/plain": [
       "[60, 56, 35, 30, 30, 25, 2, 1]"
      ]
     },
     "execution_count": 30,
     "metadata": {},
     "output_type": "execute_result"
    }
   ],
   "source": [
    "insert_sorted_desc(30,[60,56,35,30,25,2,1])"
   ]
  },
  {
   "cell_type": "code",
   "execution_count": 31,
   "id": "f2707a60",
   "metadata": {},
   "outputs": [
    {
     "data": {
      "text/plain": [
       "[60, 56, 35, 30, 25, 2, 1]"
      ]
     },
     "execution_count": 31,
     "metadata": {},
     "output_type": "execute_result"
    }
   ],
   "source": [
    "insert_sorted_desc(30,[60,56,35,25,2,1])"
   ]
  },
  {
   "cell_type": "code",
   "execution_count": 32,
   "id": "2cb99e97",
   "metadata": {},
   "outputs": [],
   "source": [
    "# Delete element at a particular position"
   ]
  },
  {
   "cell_type": "code",
   "execution_count": 43,
   "id": "eb87c7e1",
   "metadata": {},
   "outputs": [],
   "source": [
    "def del_item(pos, arr):\n",
    "    if pos <= 0 or pos > len(arr):\n",
    "        return False\n",
    "    if pos == len(arr):\n",
    "        arr.pop()\n",
    "        return arr\n",
    "    for i in range(pos - 1, len(arr) - 1):\n",
    "        arr[i] = arr[i+1]\n",
    "    arr.pop()\n",
    "    return arr\n",
    "    "
   ]
  },
  {
   "cell_type": "code",
   "execution_count": 44,
   "id": "2d97d10a",
   "metadata": {},
   "outputs": [
    {
     "data": {
      "text/plain": [
       "False"
      ]
     },
     "execution_count": 44,
     "metadata": {},
     "output_type": "execute_result"
    }
   ],
   "source": [
    "del_item(0,[60,56,35,25,2,1])"
   ]
  },
  {
   "cell_type": "code",
   "execution_count": 45,
   "id": "e64f303e",
   "metadata": {},
   "outputs": [
    {
     "data": {
      "text/plain": [
       "False"
      ]
     },
     "execution_count": 45,
     "metadata": {},
     "output_type": "execute_result"
    }
   ],
   "source": [
    "del_item(7,[60,56,35,25,2,1])"
   ]
  },
  {
   "cell_type": "code",
   "execution_count": 46,
   "id": "bad712ae",
   "metadata": {},
   "outputs": [
    {
     "data": {
      "text/plain": [
       "[60, 56, 35, 25, 2]"
      ]
     },
     "execution_count": 46,
     "metadata": {},
     "output_type": "execute_result"
    }
   ],
   "source": [
    "del_item(6,[60,56,35,25,2,1])"
   ]
  },
  {
   "cell_type": "code",
   "execution_count": 47,
   "id": "67cb0fd1",
   "metadata": {},
   "outputs": [
    {
     "data": {
      "text/plain": [
       "[60, 56, 35, 25, 1]"
      ]
     },
     "execution_count": 47,
     "metadata": {},
     "output_type": "execute_result"
    }
   ],
   "source": [
    "del_item(5,[60,56,35,25,2,1])"
   ]
  },
  {
   "cell_type": "code",
   "execution_count": null,
   "id": "5f7d9e27",
   "metadata": {},
   "outputs": [],
   "source": [
    "# Delete element at a particular value"
   ]
  },
  {
   "cell_type": "code",
   "execution_count": 8,
   "id": "4420ccc9",
   "metadata": {},
   "outputs": [],
   "source": [
    "def del_value(value, arr):\n",
    "    length = len(arr)\n",
    "    if length == 0:\n",
    "        return False\n",
    "    counter = 0\n",
    "    i = 0\n",
    "    while i <= length - 1:\n",
    "        if arr[i] == value:\n",
    "            counter = counter + 1\n",
    "        else:\n",
    "            arr[i - counter] = arr[i]        \n",
    "            \n",
    "        i += 1\n",
    "    if counter == 0:\n",
    "        return False\n",
    "    return arr[:-counter]    \n",
    "    \n",
    "    "
   ]
  },
  {
   "cell_type": "code",
   "execution_count": 9,
   "id": "692c85a1",
   "metadata": {},
   "outputs": [
    {
     "data": {
      "text/plain": [
       "[56, 35, 25, 1]"
      ]
     },
     "execution_count": 9,
     "metadata": {},
     "output_type": "execute_result"
    }
   ],
   "source": [
    "del_value(60, [60, 56, 35, 25, 1])"
   ]
  },
  {
   "cell_type": "code",
   "execution_count": 10,
   "id": "37696c7f",
   "metadata": {},
   "outputs": [
    {
     "data": {
      "text/plain": [
       "[60, 56, 35, 25]"
      ]
     },
     "execution_count": 10,
     "metadata": {},
     "output_type": "execute_result"
    }
   ],
   "source": [
    "del_value(1, [60, 56, 35, 25, 1])"
   ]
  },
  {
   "cell_type": "code",
   "execution_count": 11,
   "id": "dce7c839",
   "metadata": {},
   "outputs": [
    {
     "data": {
      "text/plain": [
       "False"
      ]
     },
     "execution_count": 11,
     "metadata": {},
     "output_type": "execute_result"
    }
   ],
   "source": [
    "del_value(7, [60, 56, 35, 25, 1])"
   ]
  },
  {
   "cell_type": "code",
   "execution_count": 14,
   "id": "47851c14",
   "metadata": {},
   "outputs": [
    {
     "data": {
      "text/plain": [
       "[60, 35, 25, 7, 8, 1]"
      ]
     },
     "execution_count": 14,
     "metadata": {},
     "output_type": "execute_result"
    }
   ],
   "source": [
    "del_value(56, [60, 56,56 ,35, 25,56,7,8,56, 1])"
   ]
  },
  {
   "cell_type": "code",
   "execution_count": 16,
   "id": "997d4dce",
   "metadata": {},
   "outputs": [],
   "source": [
    "# Merge two sorted array and return a third sorted array"
   ]
  },
  {
   "cell_type": "code",
   "execution_count": 27,
   "id": "00e7c3bf",
   "metadata": {},
   "outputs": [],
   "source": [
    "def merge(arr1, arr2):\n",
    "    length1 = len(arr1)\n",
    "    length2 = len(arr2)\n",
    "    arr_merged = []\n",
    "    \n",
    "    i = 0\n",
    "    j = 0\n",
    "    while i < length1 and j < length2:\n",
    "        if arr1[i] <= arr2[j]:\n",
    "            arr_merged.append(arr1[i])\n",
    "            i += 1\n",
    "            \n",
    "        else:\n",
    "            arr_merged.append(arr2[j])\n",
    "            j += 1\n",
    "            \n",
    "    if i == length1:\n",
    "        arr_merged.extend(arr2[j:])\n",
    "    if j == length1:\n",
    "        arr_merged.extend(arr1[i:])   \n",
    "    return arr_merged    \n",
    "            \n",
    "        \n",
    "        "
   ]
  },
  {
   "cell_type": "code",
   "execution_count": 28,
   "id": "df5c8fc3",
   "metadata": {},
   "outputs": [
    {
     "data": {
      "text/plain": [
       "[1, 2, 3, 3, 4, 5, 5, 6]"
      ]
     },
     "execution_count": 28,
     "metadata": {},
     "output_type": "execute_result"
    }
   ],
   "source": [
    "merge([1,2,3,4,5],[3,5,6])"
   ]
  },
  {
   "cell_type": "code",
   "execution_count": null,
   "id": "215fc7d1",
   "metadata": {},
   "outputs": [],
   "source": []
  }
 ],
 "metadata": {
  "kernelspec": {
   "display_name": "Python 3",
   "language": "python",
   "name": "python3"
  },
  "language_info": {
   "codemirror_mode": {
    "name": "ipython",
    "version": 3
   },
   "file_extension": ".py",
   "mimetype": "text/x-python",
   "name": "python",
   "nbconvert_exporter": "python",
   "pygments_lexer": "ipython3",
   "version": "3.7.10"
  }
 },
 "nbformat": 4,
 "nbformat_minor": 5
}
