{
 "cells": [
  {
   "cell_type": "code",
   "execution_count": 1,
   "id": "ca6bc104",
   "metadata": {},
   "outputs": [],
   "source": [
    "# Searching Linearly"
   ]
  },
  {
   "cell_type": "code",
   "execution_count": 8,
   "id": "cf261862",
   "metadata": {},
   "outputs": [],
   "source": [
    "def linear_search(arr, item):\n",
    "    for i in range(0, len(arr)):\n",
    "        if arr[i] == item:\n",
    "            return i+1\n",
    "    return -1    \n",
    "        "
   ]
  },
  {
   "cell_type": "code",
   "execution_count": 9,
   "id": "96b66b15",
   "metadata": {},
   "outputs": [
    {
     "data": {
      "text/plain": [
       "-1"
      ]
     },
     "execution_count": 9,
     "metadata": {},
     "output_type": "execute_result"
    }
   ],
   "source": [
    "linear_search([1,2,5,78,39,69], 68)"
   ]
  },
  {
   "cell_type": "code",
   "execution_count": 10,
   "id": "69d4e7ae",
   "metadata": {},
   "outputs": [
    {
     "data": {
      "text/plain": [
       "3"
      ]
     },
     "execution_count": 10,
     "metadata": {},
     "output_type": "execute_result"
    }
   ],
   "source": [
    "linear_search([1,2,5,78,39,69], 5)"
   ]
  },
  {
   "cell_type": "code",
   "execution_count": 7,
   "id": "cadeaa89",
   "metadata": {},
   "outputs": [],
   "source": [
    "# Binary Search"
   ]
  },
  {
   "cell_type": "code",
   "execution_count": 8,
   "id": "3d8afdbd",
   "metadata": {},
   "outputs": [],
   "source": [
    "def binary_search(arr, item):\n",
    "    low = 0\n",
    "    high = len(arr) - 1\n",
    "    while (low <= high):\n",
    "        mid = (low + high) // 2\n",
    "        if arr[mid] == item:\n",
    "            return True\n",
    "        elif arr[mid] > item:\n",
    "            high = mid-1\n",
    "        else:\n",
    "            low = mid + 1\n",
    "    return  False        "
   ]
  },
  {
   "cell_type": "code",
   "execution_count": 16,
   "id": "dac4c43a",
   "metadata": {},
   "outputs": [
    {
     "data": {
      "text/plain": [
       "False"
      ]
     },
     "execution_count": 16,
     "metadata": {},
     "output_type": "execute_result"
    }
   ],
   "source": [
    "binary_search([1,2,5,45,69,78,95], 68)"
   ]
  },
  {
   "cell_type": "code",
   "execution_count": 17,
   "id": "c52bb5a4",
   "metadata": {},
   "outputs": [
    {
     "data": {
      "text/plain": [
       "True"
      ]
     },
     "execution_count": 17,
     "metadata": {},
     "output_type": "execute_result"
    }
   ],
   "source": [
    "binary_search([1,2,5,45,69,78,95], 78)"
   ]
  },
  {
   "cell_type": "code",
   "execution_count": 18,
   "id": "b54cd528",
   "metadata": {},
   "outputs": [],
   "source": [
    "# Binary Search Recursively"
   ]
  },
  {
   "cell_type": "code",
   "execution_count": 22,
   "id": "b85b1a5d",
   "metadata": {},
   "outputs": [],
   "source": [
    "def rec_binary_search(item, arr, low = None, high = None):\n",
    "    if low == None:\n",
    "        low = 0\n",
    "    if high == None:\n",
    "        high = len(arr) - 1\n",
    "    mid = (low + high) // 2  \n",
    "    if low <= high:\n",
    "        if arr[mid] == item:\n",
    "            return True\n",
    "        elif arr[mid] > item:\n",
    "            high  = mid -1\n",
    "            return rec_binary_search(item, arr, low, high)\n",
    "        else:\n",
    "            low = mid + 1\n",
    "            return rec_binary_search(item, arr, low, high)\n",
    "    return False\n",
    "        \n",
    "    "
   ]
  },
  {
   "cell_type": "code",
   "execution_count": 23,
   "id": "50156c52",
   "metadata": {},
   "outputs": [
    {
     "data": {
      "text/plain": [
       "False"
      ]
     },
     "execution_count": 23,
     "metadata": {},
     "output_type": "execute_result"
    }
   ],
   "source": [
    "rec_binary_search(68,[1,2,5,45,69,78,95])"
   ]
  },
  {
   "cell_type": "code",
   "execution_count": 27,
   "id": "132de976",
   "metadata": {},
   "outputs": [
    {
     "data": {
      "text/plain": [
       "True"
      ]
     },
     "execution_count": 27,
     "metadata": {},
     "output_type": "execute_result"
    }
   ],
   "source": [
    "rec_binary_search(45,[1,2,5,45,69,78,95])"
   ]
  },
  {
   "cell_type": "code",
   "execution_count": 5,
   "id": "c83e9526",
   "metadata": {},
   "outputs": [],
   "source": [
    "def sum_list(a = []):\n",
    "    a.append(1)\n",
    "    return a"
   ]
  },
  {
   "cell_type": "code",
   "execution_count": 6,
   "id": "a181203d",
   "metadata": {},
   "outputs": [
    {
     "data": {
      "text/plain": [
       "[1]"
      ]
     },
     "execution_count": 6,
     "metadata": {},
     "output_type": "execute_result"
    }
   ],
   "source": [
    "sum_list()"
   ]
  },
  {
   "cell_type": "code",
   "execution_count": 7,
   "id": "298b16b9",
   "metadata": {},
   "outputs": [
    {
     "data": {
      "text/plain": [
       "[1, 1]"
      ]
     },
     "execution_count": 7,
     "metadata": {},
     "output_type": "execute_result"
    }
   ],
   "source": [
    "sum_list()"
   ]
  },
  {
   "cell_type": "code",
   "execution_count": 11,
   "id": "dc0d6356",
   "metadata": {},
   "outputs": [],
   "source": [
    "def binary_search(arr, item):\n",
    "    low = 0\n",
    "    high = len(arr) - 1\n",
    "    while low <= high:\n",
    "        mid = (low + high) //2\n",
    "        if arr[mid] == item:\n",
    "            return mid + 1\n",
    "        elif arr[mid] < item :\n",
    "            low = mid + 1\n",
    "        else:\n",
    "            high = mid -1\n",
    "    return -1        "
   ]
  },
  {
   "cell_type": "code",
   "execution_count": 12,
   "id": "644f172b",
   "metadata": {},
   "outputs": [
    {
     "data": {
      "text/plain": [
       "-1"
      ]
     },
     "execution_count": 12,
     "metadata": {},
     "output_type": "execute_result"
    }
   ],
   "source": [
    "binary_search([1,2,3,4,5,6,7], 9)"
   ]
  },
  {
   "cell_type": "code",
   "execution_count": 21,
   "id": "12186fdc",
   "metadata": {},
   "outputs": [
    {
     "data": {
      "text/plain": [
       "7"
      ]
     },
     "execution_count": 21,
     "metadata": {},
     "output_type": "execute_result"
    }
   ],
   "source": [
    "binary_search([1,2,3,4,5,6,17], 17)"
   ]
  },
  {
   "cell_type": "code",
   "execution_count": null,
   "id": "2f888a30",
   "metadata": {},
   "outputs": [],
   "source": [
    "def missingNumbers(arr, brr):\n",
    "    dict_a, dict_b = {}, {}\n",
    "    for i in range(0, len(arr)):\n",
    "        value = arr[i]\n",
    "        if value in dict_a:\n",
    "            dict_a[value] += 1\n",
    "        else:\n",
    "            dict_a[value] = 1   \n",
    "    \n",
    "    for i in range(0, len(brr)):\n",
    "        value = brr[i]\n",
    "        if value in dict_a:\n",
    "            dict_a[value] -= 1\n",
    "    for value in dict_a:\n",
    "        if  dict_a[value] != 0:\n",
    "            dict_b[value] = dict_a[value]      \n",
    "        \n",
    "    return sorted(dict_b.keys())"
   ]
  },
  {
   "cell_type": "code",
   "execution_count": 26,
   "id": "71d2c572",
   "metadata": {},
   "outputs": [],
   "source": [
    "arr = [203 ,204 ,204 ,205 ,206 ,207 ,205 ,208 ,203 ,206 ,205 ,206, 204]\n",
    "brr= [203 ,204, 205, 206 ,207 ,208, 203 ,204 ,205 ,206]"
   ]
  },
  {
   "cell_type": "code",
   "execution_count": 23,
   "id": "e58c02d6",
   "metadata": {},
   "outputs": [],
   "source": [
    "dict_a, dict_b = {}, {}\n",
    "for i in range(0, len(arr)):\n",
    "    value = arr[i]\n",
    "    if value in dict_a:\n",
    "        dict_a[value] += 1\n",
    "    else:\n",
    "        dict_a[value] = 1  "
   ]
  },
  {
   "cell_type": "code",
   "execution_count": 24,
   "id": "b726b67f",
   "metadata": {},
   "outputs": [
    {
     "data": {
      "text/plain": [
       "{203: 2, 204: 3, 205: 3, 206: 3, 207: 1, 208: 1}"
      ]
     },
     "execution_count": 24,
     "metadata": {},
     "output_type": "execute_result"
    }
   ],
   "source": [
    "dict_a"
   ]
  },
  {
   "cell_type": "code",
   "execution_count": 27,
   "id": "3e5a5cb4",
   "metadata": {},
   "outputs": [],
   "source": [
    "for i in range(0, len(brr)):\n",
    "    value = brr[i]\n",
    "    if value in dict_a:\n",
    "        dict_a[value] -= 1\n",
    "        "
   ]
  },
  {
   "cell_type": "code",
   "execution_count": 28,
   "id": "8be4b05f",
   "metadata": {},
   "outputs": [
    {
     "data": {
      "text/plain": [
       "{203: 0, 204: 1, 205: 1, 206: 1, 207: 0, 208: 0}"
      ]
     },
     "execution_count": 28,
     "metadata": {},
     "output_type": "execute_result"
    }
   ],
   "source": [
    "dict_a"
   ]
  },
  {
   "cell_type": "code",
   "execution_count": 29,
   "id": "5d08cb51",
   "metadata": {},
   "outputs": [],
   "source": [
    "for value in dict_a:\n",
    "    if  dict_a[value] != 0:\n",
    "        dict_b[value] = dict_a[value]"
   ]
  },
  {
   "cell_type": "code",
   "execution_count": 30,
   "id": "397c63ac",
   "metadata": {},
   "outputs": [
    {
     "data": {
      "text/plain": [
       "{204: 1, 205: 1, 206: 1}"
      ]
     },
     "execution_count": 30,
     "metadata": {},
     "output_type": "execute_result"
    }
   ],
   "source": [
    "dict_b"
   ]
  },
  {
   "cell_type": "code",
   "execution_count": 31,
   "id": "b54f6e0d",
   "metadata": {},
   "outputs": [
    {
     "data": {
      "text/plain": [
       "[204, 205, 206]"
      ]
     },
     "execution_count": 31,
     "metadata": {},
     "output_type": "execute_result"
    }
   ],
   "source": [
    "sorted(dict_b.keys())"
   ]
  },
  {
   "cell_type": "code",
   "execution_count": null,
   "id": "49d801a1",
   "metadata": {},
   "outputs": [],
   "source": []
  }
 ],
 "metadata": {
  "kernelspec": {
   "display_name": "Python 3",
   "language": "python",
   "name": "python3"
  },
  "language_info": {
   "codemirror_mode": {
    "name": "ipython",
    "version": 3
   },
   "file_extension": ".py",
   "mimetype": "text/x-python",
   "name": "python",
   "nbconvert_exporter": "python",
   "pygments_lexer": "ipython3",
   "version": "3.7.3"
  }
 },
 "nbformat": 4,
 "nbformat_minor": 5
}
