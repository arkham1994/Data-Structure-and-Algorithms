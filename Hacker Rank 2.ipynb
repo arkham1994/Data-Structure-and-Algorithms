{
 "cells": [
  {
   "cell_type": "markdown",
   "id": "dd3d0820",
   "metadata": {},
   "source": [
    "## Hackerank Array Problem 1"
   ]
  },
  {
   "cell_type": "raw",
   "id": "2835ab03",
   "metadata": {},
   "source": [
    "Mark and Jane are very happy after having their first child. Their son loves toys, so Mark wants to buy some. There are a number of different toys lying in front of him, tagged with their prices. Mark has only a certain amount to spend, and he wants to maximize the number of toys he buys with this money. Given a list of toy prices and an amount to spend, determine the maximum number of gifts he can buy.\n",
    "\n",
    "Note Each toy can be purchased only once.\n",
    "\n",
    "Example\n",
    "\n",
    "\n",
    "The budget is  units of currency. He can buy items that cost  for , or  for  units. The maximum is  items.\n",
    "\n",
    "Function Description\n",
    "\n",
    "Complete the function maximumToys in the editor below.\n",
    "\n",
    "maximumToys has the following parameter(s):\n",
    "\n",
    "int prices[n]: the toy prices\n",
    "int k: Mark's budget\n",
    "Returns\n",
    "\n",
    "int: the maximum number of toys\n",
    "Input Format\n",
    "\n",
    "The first line contains two integers,  and , the number of priced toys and the amount Mark has to spend.\n",
    "The next line contains  space-separated integers \n",
    "\n",
    "Constraints\n",
    "\n",
    "\n",
    "\n",
    "\n",
    "A toy can't be bought multiple times.\n",
    "\n",
    "Sample Input\n",
    "\n",
    "7 50\n",
    "1 12 5 111 200 1000 10\n",
    "Sample Output\n",
    "\n",
    "4\n",
    "Explanation\n",
    "\n",
    "He can buy only  toys at most. These toys have the following prices: ."
   ]
  },
  {
   "cell_type": "code",
   "execution_count": 3,
   "id": "cd1621cf",
   "metadata": {},
   "outputs": [],
   "source": [
    "\n",
    "\n",
    "def max_toys(list_prices,budget):\n",
    "    sort_list = sorted(list_prices)\n",
    "    sum = 0\n",
    "    i = 0\n",
    "    for i in range(len(sort_list)):\n",
    "        if (sum + sort_list[i]) <= budget:\n",
    "            sum = sum + sort_list[i]\n",
    "        else:\n",
    "            return i\n",
    "        \n",
    "        \n",
    "        "
   ]
  },
  {
   "cell_type": "code",
   "execution_count": 10,
   "id": "9e8162c3",
   "metadata": {},
   "outputs": [
    {
     "data": {
      "text/plain": [
       "4"
      ]
     },
     "execution_count": 10,
     "metadata": {},
     "output_type": "execute_result"
    }
   ],
   "source": [
    "list_prices = [3,4,1,2,6,3,2]\n",
    "budget = 8.5\n",
    "\n",
    "\n",
    "max_toys(list_prices,budget)"
   ]
  },
  {
   "cell_type": "markdown",
   "id": "1244fadb",
   "metadata": {},
   "source": [
    "## Hacker Rank Problem 2"
   ]
  },
  {
   "cell_type": "raw",
   "id": "ae089e77",
   "metadata": {},
   "source": [
    "\n",
    "HackerLand National Bank has a simple policy for warning clients about possible fraudulent account activity. If the amount spent by a client on a particular day is greater than or equal to  the client's median spending for a trailing number of days, they send the client a notification about potential fraud. The bank doesn't send the client any notifications until they have at least that trailing number of prior days' transaction data.\n",
    "\n",
    "Given the number of trailing days  and a client's total daily expenditures for a period of  days, determine the number of times the client will receive a notification over all  days.\n",
    "\n",
    "Example\n",
    "\n",
    "\n",
    "On the first three days, they just collect spending data. At day , trailing expenditures are . The median is  and the day's expenditure is . Because , there will be a notice. The next day, trailing expenditures are  and the expenditures are . This is less than  so no notice will be sent. Over the period, there was one notice sent.\n",
    "\n",
    "Note: The median of a list of numbers can be found by first sorting the numbers ascending. If there is an odd number of values, the middle one is picked. If there is an even number of values, the median is then defined to be the average of the two middle values. (Wikipedia)\n",
    "\n",
    "Function Description\n",
    "\n",
    "Complete the function activityNotifications in the editor below.\n",
    "\n",
    "activityNotifications has the following parameter(s):\n",
    "\n",
    "int expenditure[n]: daily expenditures\n",
    "int d: the lookback days for median spending\n",
    "Returns\n",
    "\n",
    "int: the number of notices sent\n",
    "Input Format\n",
    "\n",
    "The first line contains two space-separated integers  and , the number of days of transaction data, and the number of trailing days' data used to calculate median spending respectively.\n",
    "The second line contains  space-separated non-negative integers where each integer  denotes .\n",
    "\n",
    "Constraints\n",
    "\n",
    "Output Format\n",
    "\n",
    "Sample Input 0\n",
    "\n",
    "STDIN               Function\n",
    "-----               --------\n",
    "9 5                 expenditure[] size n =9, d = 5\n",
    "2 3 4 2 3 6 8 4 5   expenditure = [2, 3, 4, 2, 3, 6, 8, 4, 5]\n",
    "Sample Output 0\n",
    "\n",
    "2\n",
    "Explanation 0\n",
    "\n",
    "Determine the total number of  the client receives over a period of  days. For the first five days, the customer receives no notifications because the bank has insufficient transaction data: .\n",
    "\n",
    "On the sixth day, the bank has  days of prior transaction data, , and  dollars. The client spends  dollars, which triggers a notification because : .\n",
    "\n",
    "On the seventh day, the bank has  days of prior transaction data, , and  dollars. The client spends  dollars, which triggers a notification because : .\n",
    "\n",
    "On the eighth day, the bank has  days of prior transaction data, , and  dollars. The client spends  dollars, which does not trigger a notification because : .\n",
    "\n",
    "On the ninth day, the bank has  days of prior transaction data, , and a transaction median of  dollars. The client spends  dollars, which does not trigger a notification because : .\n",
    "\n",
    "Sample Input 1\n",
    "\n",
    "5 4\n",
    "1 2 3 4 4\n",
    "Sample Output 1\n",
    ":\n",
    "0\n",
    "There are  days of data required so the first day a notice might go out is day . Our trailing expenditures are  with a median of  The client spends  which is less than  so no notification is sent."
   ]
  },
  {
   "cell_type": "code",
   "execution_count": null,
   "id": "1349d6fd",
   "metadata": {},
   "outputs": [],
   "source": []
  },
  {
   "cell_type": "code",
   "execution_count": 1,
   "id": "8d7e5bfe",
   "metadata": {},
   "outputs": [],
   "source": [
    "import statistics\n",
    "\n",
    "def subset_list(list):\n",
    "    \n",
    "def activityNotifications(expenditure, d):\n",
    "    \n",
    "    notices = 0\n",
    "    if len(expenditure) <=d:\n",
    "        return notices\n",
    "    else:\n",
    "        for i in range(d,len(expenditure)):\n",
    "            \n",
    "            median = statistics.median(expenditure[i-d:i])\n",
    "            if expenditure[i] >= 2 * median:\n",
    "                notices += 1\n",
    "            \n",
    "    return notices                     \n",
    "                \n",
    "    "
   ]
  },
  {
   "cell_type": "code",
   "execution_count": 4,
   "id": "254883dd",
   "metadata": {},
   "outputs": [
    {
     "data": {
      "text/plain": [
       "2"
      ]
     },
     "execution_count": 4,
     "metadata": {},
     "output_type": "execute_result"
    }
   ],
   "source": [
    "expenditure = [2, 3, 4, 6, 7,8,12]\n",
    "d = 5\n",
    "activityNotifications(expenditure, d)"
   ]
  },
  {
   "cell_type": "code",
   "execution_count": 49,
   "id": "5f8efb5b",
   "metadata": {},
   "outputs": [
    {
     "data": {
      "text/plain": [
       "6.0"
      ]
     },
     "execution_count": 49,
     "metadata": {},
     "output_type": "execute_result"
    }
   ],
   "source": [
    "import statistics\n",
    "import numpy as np\n",
    "a = np.array([2, 3, 4, 6, 7,8,11])\n",
    "p = np.median(a)\n",
    "p"
   ]
  },
  {
   "cell_type": "code",
   "execution_count": 3,
   "id": "7d36c223",
   "metadata": {},
   "outputs": [],
   "source": [
    "  \n",
    "def activityNotifications(expenditure, d):\n",
    "    \n",
    "    notices = 0\n",
    "    \n",
    "    if len(expenditure) <=d:\n",
    "        return notices\n",
    "    \n",
    "    while len(expenditure) >= d+1:\n",
    "        sub_list = expenditure[0:d+1]\n",
    "        median = statistics.median(sub_list[0:d])\n",
    "        if sub_list[d] >= 2 * median:\n",
    "            notices += 1\n",
    "        del(expenditure[0])   \n",
    "    \n",
    "    return notices\n",
    "    \n",
    "                    \n",
    "                "
   ]
  },
  {
   "cell_type": "code",
   "execution_count": null,
   "id": "ccba1374",
   "metadata": {},
   "outputs": [],
   "source": []
  }
 ],
 "metadata": {
  "kernelspec": {
   "display_name": "Python 3",
   "language": "python",
   "name": "python3"
  },
  "language_info": {
   "codemirror_mode": {
    "name": "ipython",
    "version": 3
   },
   "file_extension": ".py",
   "mimetype": "text/x-python",
   "name": "python",
   "nbconvert_exporter": "python",
   "pygments_lexer": "ipython3",
   "version": "3.7.3"
  }
 },
 "nbformat": 4,
 "nbformat_minor": 5
}
