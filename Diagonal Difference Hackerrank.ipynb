{
 "cells": [
  {
   "cell_type": "code",
   "execution_count": 3,
   "id": "e8ba5ac1",
   "metadata": {},
   "outputs": [
    {
     "data": {
      "application/javascript": [
       "\n",
       "        if (window._pyforest_update_imports_cell) { window._pyforest_update_imports_cell('import numpy as np'); }\n",
       "    "
      ],
      "text/plain": [
       "<IPython.core.display.Javascript object>"
      ]
     },
     "metadata": {},
     "output_type": "display_data"
    }
   ],
   "source": [
    "arr= np.array([1,2,3,4,5,6,7,8,9]).reshape(3,3)"
   ]
  },
  {
   "cell_type": "code",
   "execution_count": 5,
   "id": "7bb4778b",
   "metadata": {},
   "outputs": [
    {
     "data": {
      "text/plain": [
       "3"
      ]
     },
     "execution_count": 5,
     "metadata": {},
     "output_type": "execute_result"
    }
   ],
   "source": [
    "arr.shape[0]"
   ]
  },
  {
   "cell_type": "code",
   "execution_count": 1,
   "id": "cacc89bf",
   "metadata": {},
   "outputs": [],
   "source": [
    "#  j     \n",
    "#0 1 2   \n",
    "\n",
    "#1 2 3   0 \n",
    "#4 5 6   1  i\n",
    "#7 8 9   2\n"
   ]
  },
  {
   "cell_type": "code",
   "execution_count": 2,
   "id": "48a0ff0f",
   "metadata": {},
   "outputs": [],
   "source": [
    "def diagonalDifference(arr):\n",
    "    \n",
    "    length = len(arr)\n",
    "    sum1 = 0\n",
    "    sum2 = 0\n",
    "    for i in range(length):\n",
    "        sum1 = sum1 + arr[i][i]\n",
    "        sum2 = sum2 + arr[i][length - i - 1]\n",
    "    diff = abs(sum1 - sum2)    \n",
    "    return diff\n"
   ]
  },
  {
   "cell_type": "code",
   "execution_count": null,
   "id": "117dd286",
   "metadata": {},
   "outputs": [],
   "source": []
  }
 ],
 "metadata": {
  "kernelspec": {
   "display_name": "Python 3",
   "language": "python",
   "name": "python3"
  },
  "language_info": {
   "codemirror_mode": {
    "name": "ipython",
    "version": 3
   },
   "file_extension": ".py",
   "mimetype": "text/x-python",
   "name": "python",
   "nbconvert_exporter": "python",
   "pygments_lexer": "ipython3",
   "version": "3.7.10"
  }
 },
 "nbformat": 4,
 "nbformat_minor": 5
}
