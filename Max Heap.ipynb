{
 "cells": [
  {
   "cell_type": "code",
   "execution_count": 1,
   "id": "98d27f23",
   "metadata": {},
   "outputs": [],
   "source": [
    "# Max Heap"
   ]
  },
  {
   "cell_type": "code",
   "execution_count": 8,
   "id": "a8cdf318",
   "metadata": {},
   "outputs": [],
   "source": [
    "class MaxHeap():\n",
    "    def __init__(self, items =[]):\n",
    "        super().__init__()\n",
    "        self.heap = [0]\n",
    "        for item in items:\n",
    "            self.heap.append(item)\n",
    "            self.__floatUp(len(self.heap) - 1)\n",
    "            \n",
    "    def push(self, item):\n",
    "        self.heap.append(item)\n",
    "        self.__floatUp(len(self.heap) - 1)\n",
    "        \n",
    "    def peek(self):\n",
    "        if len(self.heap) > 1:\n",
    "            return self.heap[1]\n",
    "        else:\n",
    "            return False\n",
    "        \n",
    "    def pop(self):\n",
    "        if (len(self.heap) > 2):\n",
    "            self.__swap(1, len(self.heap) - 1)\n",
    "            max = self.heap.pop()\n",
    "            self.__bubbleDown(1)\n",
    "        elif len(self.heap) == 2:\n",
    "            max = self.heap.pop()\n",
    "        else:\n",
    "            max = False\n",
    "        return max\n",
    "    \n",
    "    def __swap(self, i, j):\n",
    "        self.heap[i], self.heap[j] = self.heap[j], self.heap[i] \n",
    "        \n",
    "        \n",
    "    def __floatUp(self,index):\n",
    "        parent  = index // 2\n",
    "        \n",
    "        if index <= 1:\n",
    "            return\n",
    "        elif self.heap[index]>self.heap[parent]:\n",
    "            self.__swap(index, parent)\n",
    "            self.__floatUp(parent)\n",
    "            \n",
    "    def __bubbleDown(self, index):\n",
    "        left = index * 2\n",
    "        right = index * 2 + 1\n",
    "        largest = index\n",
    "        if len(self.heap) > left  and self.heap[largest] < self.heap[left]:\n",
    "            largest = left \n",
    "        if len(self.heap) > right  and self.heap[largest] < self.heap[right]:\n",
    "            largest = right\n",
    "        if index!= largest:\n",
    "            self.__swap(largest, index)\n",
    "            self.__bubbleDown(largest)\n",
    "            \n",
    "    def __str__(self):\n",
    "        return str(self.heap)"
   ]
  },
  {
   "cell_type": "code",
   "execution_count": 9,
   "id": "7a5d986b",
   "metadata": {},
   "outputs": [
    {
     "name": "stdout",
     "output_type": "stream",
     "text": [
      "[0, 25, 16, 24, 5, 1, 2, 3]\n",
      "[0, 25, 17, 24, 16, 1, 2, 3, 5]\n",
      "[0, 24, 17, 5, 16, 1, 2, 3]\n",
      "24\n"
     ]
    }
   ],
   "source": [
    "heap = MaxHeap([25,16,24,5,1,2,3])\n",
    "\n",
    "print(heap)\n",
    "heap.push(17)\n",
    "print(heap)\n",
    "heap.pop()\n",
    "print(heap)\n",
    "print(heap.peek())"
   ]
  },
  {
   "cell_type": "code",
   "execution_count": null,
   "id": "723d3436",
   "metadata": {},
   "outputs": [],
   "source": [
    "# Min Heap"
   ]
  }
 ],
 "metadata": {
  "kernelspec": {
   "display_name": "Python 3",
   "language": "python",
   "name": "python3"
  },
  "language_info": {
   "codemirror_mode": {
    "name": "ipython",
    "version": 3
   },
   "file_extension": ".py",
   "mimetype": "text/x-python",
   "name": "python",
   "nbconvert_exporter": "python",
   "pygments_lexer": "ipython3",
   "version": "3.7.3"
  }
 },
 "nbformat": 4,
 "nbformat_minor": 5
}
