{
 "cells": [
  {
   "cell_type": "code",
   "execution_count": 1,
   "id": "64b7aaf0",
   "metadata": {},
   "outputs": [],
   "source": [
    "# Selection Sorting "
   ]
  },
  {
   "cell_type": "code",
   "execution_count": 1,
   "id": "9f5c3564",
   "metadata": {},
   "outputs": [],
   "source": [
    "def selection_sort(a):\n",
    "    if len(a)<= 1:\n",
    "        return a\n",
    "    for i in range(0,len(a)-1):\n",
    "        j = i + 1\n",
    "        while j < len(a):\n",
    "            if a[i] > a[j]:\n",
    "                temp = a[i]\n",
    "                a[i] = a[j]\n",
    "                a[j] = temp\n",
    "            j += 1    \n",
    "    return a         "
   ]
  },
  {
   "cell_type": "code",
   "execution_count": 2,
   "id": "59d6c236",
   "metadata": {},
   "outputs": [
    {
     "data": {
      "text/plain": [
       "[1, 2, 4, 4, 5, 6, 7]"
      ]
     },
     "execution_count": 2,
     "metadata": {},
     "output_type": "execute_result"
    }
   ],
   "source": [
    "selection_sort([1,4,2,6,4,7,5])"
   ]
  },
  {
   "cell_type": "code",
   "execution_count": 10,
   "id": "1e85f497",
   "metadata": {},
   "outputs": [],
   "source": [
    "# Selection sorting by reducing number of swaps "
   ]
  },
  {
   "cell_type": "code",
   "execution_count": 5,
   "id": "f86e2683",
   "metadata": {},
   "outputs": [],
   "source": [
    "def selection_sort_2(a):\n",
    "    if len(a)<= 1:\n",
    "        return a\n",
    "    #swaps = 0                       To check total number of swaps\n",
    "    for i in range(0,len(a)-1):\n",
    "        min_pos = i\n",
    "        j = i + 1\n",
    "        while j < len(a):\n",
    "            if a[min_pos] > a[j]:\n",
    "                min_pos = j\n",
    "            j += 1    \n",
    "        if min_pos != i:\n",
    "            temp = a[min_pos]\n",
    "            a[min_pos] = a[i]\n",
    "            a[i] = temp\n",
    "            #swaps = swaps + 1\n",
    "    return a  "
   ]
  },
  {
   "cell_type": "code",
   "execution_count": 6,
   "id": "570f319b",
   "metadata": {},
   "outputs": [
    {
     "data": {
      "text/plain": [
       "[1, 2, 4, 4, 5, 6, 7]"
      ]
     },
     "execution_count": 6,
     "metadata": {},
     "output_type": "execute_result"
    }
   ],
   "source": [
    "selection_sort_2([1,4,2,6,4,7,5])"
   ]
  },
  {
   "cell_type": "code",
   "execution_count": 1,
   "id": "3f29524a",
   "metadata": {},
   "outputs": [],
   "source": [
    "# Bubble sort"
   ]
  },
  {
   "cell_type": "code",
   "execution_count": 19,
   "id": "08d06cba",
   "metadata": {},
   "outputs": [],
   "source": [
    "def bubble_sort(arr):\n",
    "    length  = len(arr)\n",
    "    for i in range (1, length):\n",
    "        j= 0\n",
    "        while j <= length - i - 1:\n",
    "            if arr[j] > arr[j+1]:\n",
    "                temp = arr[j]\n",
    "                arr[j] = arr[j+1]\n",
    "                arr[j+1] = temp\n",
    "            j = j + 1\n",
    "        #print(1)    # To check how many passes took place    \n",
    "    return arr        "
   ]
  },
  {
   "cell_type": "code",
   "execution_count": 20,
   "id": "ed6a2a43",
   "metadata": {},
   "outputs": [
    {
     "name": "stdout",
     "output_type": "stream",
     "text": [
      "1\n",
      "1\n",
      "1\n",
      "1\n",
      "1\n"
     ]
    },
    {
     "data": {
      "text/plain": [
       "[1, 2, 3, 4, 5, 6]"
      ]
     },
     "execution_count": 20,
     "metadata": {},
     "output_type": "execute_result"
    }
   ],
   "source": [
    "#bubble_sort([9,6,4,10,5,20,1,5])\n",
    "bubble_sort([1,2,3,4,5,6])"
   ]
  },
  {
   "cell_type": "code",
   "execution_count": 6,
   "id": "66539cea",
   "metadata": {},
   "outputs": [],
   "source": [
    "# Bubble Sort\n",
    "# In this version we will try to reduce the number of Passes i.e. we won't run our program any more if there were no swaps in.. \n",
    "# .. previous iteration which basically means array is already sorted"
   ]
  },
  {
   "cell_type": "code",
   "execution_count": 21,
   "id": "44f670b0",
   "metadata": {},
   "outputs": [],
   "source": [
    "def bubble_sort_modified(arr):\n",
    "    length  = len(arr)\n",
    "    i = 1\n",
    "    flag = True\n",
    "    while i < length and flag == True:\n",
    "        flag = False\n",
    "        j= 0\n",
    "        while j <= length - i - 1 :\n",
    "            if arr[j] > arr[j+1]:\n",
    "                temp = arr[j]\n",
    "                arr[j] = arr[j+1]\n",
    "                arr[j+1] = temp\n",
    "                flag = True\n",
    "                \n",
    "            j = j + 1\n",
    "        i += 1 \n",
    "        #print(1)    # To check how many passes took place\n",
    "    return arr  "
   ]
  },
  {
   "cell_type": "code",
   "execution_count": 23,
   "id": "31585b43",
   "metadata": {},
   "outputs": [
    {
     "name": "stdout",
     "output_type": "stream",
     "text": [
      "1\n"
     ]
    },
    {
     "data": {
      "text/plain": [
       "[1, 2, 3, 4, 5, 6]"
      ]
     },
     "execution_count": 23,
     "metadata": {},
     "output_type": "execute_result"
    }
   ],
   "source": [
    "#bubble_sort_modified([9,6,4,10,5,20,1,5])\n",
    "bubble_sort_modified([1,2,3,4,5,6])"
   ]
  },
  {
   "cell_type": "code",
   "execution_count": 24,
   "id": "872d3713",
   "metadata": {},
   "outputs": [],
   "source": [
    "# Insertion sorting"
   ]
  },
  {
   "cell_type": "code",
   "execution_count": 27,
   "id": "12f30d24",
   "metadata": {},
   "outputs": [],
   "source": [
    "def insertion_sort(arr):\n",
    "    length = len(arr)\n",
    "    for  i in range(1, length):\n",
    "        item = arr[i]\n",
    "        j = i - 1\n",
    "        while j >= 0 and arr[j] > item:\n",
    "            arr[j+1] = arr[j]\n",
    "            j -= 1\n",
    "        arr[j + 1] = item\n",
    "    return arr    "
   ]
  },
  {
   "cell_type": "code",
   "execution_count": 28,
   "id": "f971dd7a",
   "metadata": {},
   "outputs": [
    {
     "data": {
      "text/plain": [
       "[1, 1, 2, 3, 5]"
      ]
     },
     "execution_count": 28,
     "metadata": {},
     "output_type": "execute_result"
    }
   ],
   "source": [
    "insertion_sort([1,2,1,5,3])"
   ]
  },
  {
   "cell_type": "code",
   "execution_count": 29,
   "id": "5e49fcd0",
   "metadata": {},
   "outputs": [
    {
     "data": {
      "text/plain": [
       "[1, 2, 3, 4, 5, 6]"
      ]
     },
     "execution_count": 29,
     "metadata": {},
     "output_type": "execute_result"
    }
   ],
   "source": [
    "insertion_sort([6,5,4,3,2,1])"
   ]
  },
  {
   "cell_type": "code",
   "execution_count": 1,
   "id": "2b642a04",
   "metadata": {},
   "outputs": [],
   "source": [
    "def shell_sort(arr):\n",
    "    length = len(arr)\n",
    "    span = length // 2\n",
    "    while span >= 1:\n",
    "        for  i in range(span, length):\n",
    "            item = arr[i]\n",
    "            j = i - span\n",
    "            while j >= 0 and arr[j] > item:\n",
    "                arr[j + span] = arr[j]\n",
    "                j = j - span\n",
    "            arr[j + span] = item\n",
    "        span = span//2    \n",
    "    return arr "
   ]
  },
  {
   "cell_type": "code",
   "execution_count": 2,
   "id": "d02212e1",
   "metadata": {},
   "outputs": [
    {
     "data": {
      "text/plain": [
       "[1, 1, 1, 3, 3, 3, 4, 4, 4, 8, 8, 8]"
      ]
     },
     "execution_count": 2,
     "metadata": {},
     "output_type": "execute_result"
    }
   ],
   "source": [
    "shell_sort([3,3,3,1,1,1,8,8,8,4,4,4])"
   ]
  },
  {
   "cell_type": "code",
   "execution_count": 1,
   "id": "494b32be",
   "metadata": {},
   "outputs": [],
   "source": [
    "def countSwaps(a):   # Hackerrank sorting problem\n",
    "    length  = len(a)\n",
    "    swaps = 0\n",
    "    i = 1\n",
    "    flag = True\n",
    "    while i < length and flag == True:\n",
    "        flag = False\n",
    "        j= 0\n",
    "        while j <= length - i - 1 :\n",
    "            if a[j] > a[j+1]:\n",
    "                temp = a[j]\n",
    "                a[j] = a[j+1]\n",
    "                a[j+1] = temp\n",
    "                swaps = swaps + 1\n",
    "                flag = True\n",
    "                \n",
    "            j = j + 1\n",
    "        i = i + 1 \n",
    "    print(f\"Array is sorted in {swaps} swaps.\") \n",
    "    print(f\"First Element: {a[0]}\")  \n",
    "    print(f\"Last Element: {a[-1]}\") \n",
    "    return None"
   ]
  },
  {
   "cell_type": "code",
   "execution_count": 2,
   "id": "c3dee22a",
   "metadata": {},
   "outputs": [
    {
     "name": "stdout",
     "output_type": "stream",
     "text": [
      "Array is sorted in 3 swaps.\n",
      "First Element: 1\n",
      "Last Element: 3\n"
     ]
    }
   ],
   "source": [
    "countSwaps([3,2,1])"
   ]
  },
  {
   "cell_type": "code",
   "execution_count": 6,
   "id": "2e8ec0b8",
   "metadata": {},
   "outputs": [
    {
     "data": {
      "text/plain": [
       "2"
      ]
     },
     "execution_count": 6,
     "metadata": {},
     "output_type": "execute_result"
    }
   ],
   "source": [
    "arr = [1,2,3,4,5,6,7,8,9]\n",
    "arr1 = arr[0:4][1]\n",
    "#arr2 = arr1[0:2]\n",
    "arr1"
   ]
  },
  {
   "cell_type": "code",
   "execution_count": 7,
   "id": "4026954e",
   "metadata": {},
   "outputs": [],
   "source": [
    "# Minimum swaps function\n"
   ]
  },
  {
   "cell_type": "code",
   "execution_count": 8,
   "id": "1ea60021",
   "metadata": {},
   "outputs": [],
   "source": [
    "arr = [2,3,5,1,7,6]\n",
    "\n"
   ]
  },
  {
   "cell_type": "code",
   "execution_count": 14,
   "id": "b3319237",
   "metadata": {},
   "outputs": [],
   "source": [
    "def min_swaps(arr):\n",
    "    arr_dict = {}\n",
    "    for i in range(0, len(arr)):\n",
    "        arr_dict[arr[i]] = i + 1\n",
    "    "
   ]
  },
  {
   "cell_type": "code",
   "execution_count": 15,
   "id": "e66a8fed",
   "metadata": {},
   "outputs": [
    {
     "data": {
      "text/plain": [
       "{2: 1, 3: 2, 5: 3, 1: 4, 7: 5, 6: 6}"
      ]
     },
     "execution_count": 15,
     "metadata": {},
     "output_type": "execute_result"
    }
   ],
   "source": [
    "min_swaps(arr)"
   ]
  },
  {
   "cell_type": "code",
   "execution_count": 17,
   "id": "f08b7bb5",
   "metadata": {},
   "outputs": [
    {
     "name": "stdout",
     "output_type": "stream",
     "text": [
      "2\n",
      "3\n",
      "5\n",
      "1\n",
      "7\n",
      "6\n"
     ]
    }
   ],
   "source": [
    "for pos, val in enumerate(arr):\n",
    "    print(val)"
   ]
  },
  {
   "cell_type": "code",
   "execution_count": 7,
   "id": "316f4a50",
   "metadata": {},
   "outputs": [
    {
     "data": {
      "text/plain": [
       "True"
      ]
     },
     "execution_count": 7,
     "metadata": {},
     "output_type": "execute_result"
    }
   ],
   "source": [
    "'a' > 'A'"
   ]
  },
  {
   "cell_type": "code",
   "execution_count": null,
   "id": "99c3990a",
   "metadata": {},
   "outputs": [],
   "source": []
  }
 ],
 "metadata": {
  "kernelspec": {
   "display_name": "Python 3",
   "language": "python",
   "name": "python3"
  },
  "language_info": {
   "codemirror_mode": {
    "name": "ipython",
    "version": 3
   },
   "file_extension": ".py",
   "mimetype": "text/x-python",
   "name": "python",
   "nbconvert_exporter": "python",
   "pygments_lexer": "ipython3",
   "version": "3.7.10"
  }
 },
 "nbformat": 4,
 "nbformat_minor": 5
}
