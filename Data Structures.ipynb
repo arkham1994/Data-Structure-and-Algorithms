{
 "cells": [
  {
   "cell_type": "markdown",
   "id": "5a4f796b",
   "metadata": {},
   "source": [
    "# Learning about variuos Data Structures and their methods"
   ]
  },
  {
   "cell_type": "code",
   "execution_count": 1,
   "id": "271ab849",
   "metadata": {},
   "outputs": [
    {
     "name": "stdout",
     "output_type": "stream",
     "text": [
      "l\n",
      "hey\n",
      "mat\n"
     ]
    }
   ],
   "source": [
    "x= 'hello world'\n",
    "print(x[2])\n",
    "\n",
    "x= ['hey', 'wow', 'mat']\n",
    "print(x[0])\n",
    "\n",
    "x= ('hey', 'wow', 'mat', 'babe')\n",
    "print(x[-2])"
   ]
  },
  {
   "cell_type": "code",
   "execution_count": 3,
   "id": "6ba7d456",
   "metadata": {},
   "outputs": [
    {
     "name": "stdout",
     "output_type": "stream",
     "text": [
      "ello w\n",
      "el o\n",
      "ello world\n",
      "orld\n",
      "hello \n"
     ]
    }
   ],
   "source": [
    "# Slicing\n",
    "\n",
    "x= 'hello world'\n",
    "print(x[1:7])\n",
    "print(x[1:9:2])\n",
    "print(x[1:])\n",
    "print(x[-4:])\n",
    "print(x[:-5])"
   ]
  },
  {
   "cell_type": "code",
   "execution_count": 6,
   "id": "690c426e",
   "metadata": {},
   "outputs": [
    {
     "name": "stdout",
     "output_type": "stream",
     "text": [
      "hello world wassssup\n",
      "['bab', 'ghjg', 'dfg', 45]\n",
      "('bab', 'ghjg', 'dfg', 45)\n",
      "('bab', 'ghjg', 'dfg', 45, 'er')\n"
     ]
    }
   ],
   "source": [
    "# Concatenation\n",
    "\n",
    "x= 'hello world' + ' wassssup'\n",
    "print(x)\n",
    "\n",
    "x= ['bab','ghjg'] + ['dfg', 45]\n",
    "print(x)\n",
    "\n",
    "x= ('bab','ghjg') + ('dfg', 45)\n",
    "print(x)\n",
    "\n",
    "x=x + ('er',)  # This is how you create a single item tuple\n",
    "print(x)\n",
    "\n"
   ]
  },
  {
   "cell_type": "code",
   "execution_count": 8,
   "id": "05aef7f9",
   "metadata": {},
   "outputs": [
    {
     "name": "stdout",
     "output_type": "stream",
     "text": [
      "hello worldhello worldhello world\n",
      "['bab', 'ghjg', 'bab', 'ghjg']\n",
      "('bab', 'ghjg', 'bab', 'ghjg', 'bab', 'ghjg', 'bab', 'ghjg', 'bab', 'ghjg')\n"
     ]
    }
   ],
   "source": [
    "# Multiplying\n",
    "x= 'hello world' * 3\n",
    "print(x)\n",
    "\n",
    "x= ['bab','ghjg'] *2 \n",
    "print(x)\n",
    "\n",
    "x= ('bab','ghjg') * 5\n",
    "print(x)\n",
    "\n",
    "\n"
   ]
  },
  {
   "cell_type": "code",
   "execution_count": 9,
   "id": "22607ceb",
   "metadata": {},
   "outputs": [
    {
     "name": "stdout",
     "output_type": "stream",
     "text": [
      "True\n",
      "False\n",
      "True\n"
     ]
    }
   ],
   "source": [
    "# Checking if element lies in a sequence\n",
    "x= 'hello world' + ' wassssup'\n",
    "print('hello' in x)\n",
    "\n",
    "x= ['bab','ghjg'] + ['dfg', 45]\n",
    "print('bab' not in x)\n",
    "\n",
    "x= ('bab','ghjg') + ('dfg', 45)\n",
    "print(45 in x)\n",
    "\n",
    "\n"
   ]
  },
  {
   "cell_type": "code",
   "execution_count": 11,
   "id": "597a74a5",
   "metadata": {},
   "outputs": [
    {
     "name": "stdout",
     "output_type": "stream",
     "text": [
      "h\n",
      "e\n",
      "l\n",
      "l\n",
      "o\n",
      " \n",
      "w\n",
      "o\n",
      "r\n",
      "l\n",
      "d\n",
      "bab\n",
      "ghjg\n",
      "index = 0 and item = bab\n",
      "index = 1 and item = ghjg\n"
     ]
    }
   ],
   "source": [
    "# Iterating\n",
    "x= 'hello world' \n",
    "for item in x:\n",
    "    print(item)\n",
    "\n",
    "x= ['bab','ghjg']\n",
    "for item in x:\n",
    "    print(item)\n",
    "\n",
    "x= ('bab','ghjg')\n",
    "for index,item in enumerate(x):\n",
    "    print('index = {} and item = {}'.format(index,item))\n"
   ]
  },
  {
   "cell_type": "code",
   "execution_count": 13,
   "id": "d940a7df",
   "metadata": {},
   "outputs": [
    {
     "name": "stdout",
     "output_type": "stream",
     "text": [
      "d\n",
      "bab\n"
     ]
    }
   ],
   "source": [
    "# Min function\n",
    "\n",
    "x= 'helloworld' \n",
    "print(min(x))\n",
    "\n",
    "x= ['bab','ghjg']\n",
    "print(min(x))\n"
   ]
  },
  {
   "cell_type": "code",
   "execution_count": 14,
   "id": "6965d991",
   "metadata": {},
   "outputs": [
    {
     "name": "stdout",
     "output_type": "stream",
     "text": [
      "15\n",
      "63\n"
     ]
    }
   ],
   "source": [
    "# Sum\n",
    "x=[3,3,4,5]\n",
    "print(sum(x))\n",
    "\n",
    "x= (3,4,56)\n",
    "print(sum(x))"
   ]
  },
  {
   "cell_type": "code",
   "execution_count": 15,
   "id": "13d7da43",
   "metadata": {},
   "outputs": [
    {
     "name": "stdout",
     "output_type": "stream",
     "text": [
      "['d', 'e', 'h', 'l', 'l', 'l', 'o', 'o', 'r', 'w']\n",
      "['hey', 'mat', 'wow']\n",
      "['babe', 'hey', 'mat', 'wow']\n"
     ]
    }
   ],
   "source": [
    "# Sorted return a new list, tuple, string\n",
    "x= 'helloworld'\n",
    "print(sorted(x))\n",
    "\n",
    "x= ['hey', 'wow', 'mat']\n",
    "print(sorted(x))\n",
    "\n",
    "x= ('hey', 'wow', 'mat', 'babe')\n",
    "print(sorted(x))\n"
   ]
  },
  {
   "cell_type": "code",
   "execution_count": 20,
   "id": "8f314e6e",
   "metadata": {},
   "outputs": [
    {
     "name": "stdout",
     "output_type": "stream",
     "text": [
      "['mat', 'hey', 'wow']\n"
     ]
    }
   ],
   "source": [
    "# Sort using second element in the items\n",
    "\n",
    "x= ['hey', 'wow', 'mat']\n",
    "print(sorted(x,key = lambda m : m[1]))"
   ]
  },
  {
   "cell_type": "code",
   "execution_count": 21,
   "id": "dfb1749f",
   "metadata": {},
   "outputs": [
    {
     "name": "stdout",
     "output_type": "stream",
     "text": [
      "3\n",
      "1\n",
      "0\n"
     ]
    }
   ],
   "source": [
    "# Count function\n",
    "\n",
    "x= 'helloworld'\n",
    "print(x.count('l'))\n",
    "\n",
    "x= ['hey', 'wow', 'mat']\n",
    "print(x.count('hey'))\n",
    "\n",
    "x= ('hey', 'wow', 'mat', 'babe')\n",
    "print(x.count('lame'))\n"
   ]
  },
  {
   "cell_type": "code",
   "execution_count": 22,
   "id": "698cbcc5",
   "metadata": {},
   "outputs": [
    {
     "name": "stdout",
     "output_type": "stream",
     "text": [
      "hey\n",
      "wow\n",
      "mat\n"
     ]
    }
   ],
   "source": [
    "# Unpacking\n",
    "\n",
    "x,y,z = ['hey', 'wow', 'mat']\n",
    "print(x)\n",
    "print(y)\n",
    "print(z)"
   ]
  },
  {
   "cell_type": "code",
   "execution_count": 25,
   "id": "99cf2838",
   "metadata": {},
   "outputs": [
    {
     "name": "stdout",
     "output_type": "stream",
     "text": [
      "[]\n",
      "['23', 'fgh']\n",
      "['23', 'fgh']\n",
      "[0, 1, 2, 3, 4, 5, 6, 7]\n",
      "[4, 5, 6, 7]\n"
     ]
    }
   ],
   "source": [
    "# Creating list\n",
    "\n",
    "x= list()\n",
    "print(x)\n",
    "x= ['23','fgh']\n",
    "print(x)\n",
    "y= ('23','fgh')\n",
    "\n",
    "z= list(y)\n",
    "print(z)\n",
    "\n",
    "#list comprehension\n",
    "\n",
    "x= [m for m in range(8)]\n",
    "print(x)\n",
    "\n",
    "x= [m for m in range(8) if m not in range(4)]\n",
    "print(x)"
   ]
  },
  {
   "cell_type": "code",
   "execution_count": 28,
   "id": "44274cd5",
   "metadata": {},
   "outputs": [
    {
     "name": "stdout",
     "output_type": "stream",
     "text": [
      "['23']\n"
     ]
    }
   ],
   "source": [
    "#delete\n",
    "x= ['23','fgh']\n",
    "del(x[1])\n",
    "print(x)\n",
    "\n",
    "#x= 'helloworld'    # strings are immutable, so we will get error\n",
    "#del(x[1])\n",
    "#print(x)\n"
   ]
  },
  {
   "cell_type": "code",
   "execution_count": 31,
   "id": "f2255a3e",
   "metadata": {},
   "outputs": [
    {
     "name": "stdout",
     "output_type": "stream",
     "text": [
      "['23', 'fgh', 5]\n",
      "['23', 'fgh', [4, 5]]\n"
     ]
    }
   ],
   "source": [
    "# append add item to the list\n",
    "\n",
    "x= ['23','fgh']\n",
    "x.append(5)\n",
    "print(x)\n",
    "x= ['23','fgh']\n",
    "x.append([4,5])\n",
    "print(x)"
   ]
  },
  {
   "cell_type": "code",
   "execution_count": 30,
   "id": "21a9f4ae",
   "metadata": {},
   "outputs": [
    {
     "name": "stdout",
     "output_type": "stream",
     "text": [
      "['23', 'fgh', 4, 5]\n"
     ]
    }
   ],
   "source": [
    "# append add sequence to the list\n",
    "\n",
    "x= ['23','fgh']\n",
    "x.extend([4,5])\n",
    "print(x)"
   ]
  },
  {
   "cell_type": "code",
   "execution_count": 32,
   "id": "1b006307",
   "metadata": {},
   "outputs": [
    {
     "name": "stdout",
     "output_type": "stream",
     "text": [
      "['23', [4, 5], 'fgh']\n",
      "['23', 'fgh', [4, 5]]\n",
      "['23', 'fgh', [4, 5]]\n"
     ]
    }
   ],
   "source": [
    "# Insert \n",
    "\n",
    "\n",
    "x= ['23','fgh']\n",
    "x.insert(1,[4,5])\n",
    "print(x)\n",
    "\n",
    "x= ['23','fgh']\n",
    "x.insert(2,[4,5])\n",
    "print(x)\n",
    "\n",
    "x= ['23','fgh']\n",
    "x.insert(3,[4,5])  # 3 is out of index so it just adds at the last index\n",
    "print(x)"
   ]
  },
  {
   "cell_type": "code",
   "execution_count": 34,
   "id": "35f73728",
   "metadata": {},
   "outputs": [
    {
     "name": "stdout",
     "output_type": "stream",
     "text": [
      "['23']\n",
      "23\n"
     ]
    }
   ],
   "source": [
    "# Pop\n",
    "x= ['23','fgh']\n",
    "x.pop()           # It pops the last element\n",
    "print(x)\n",
    "print(x.pop())\n"
   ]
  },
  {
   "cell_type": "code",
   "execution_count": 38,
   "id": "f90db76b",
   "metadata": {},
   "outputs": [
    {
     "name": "stdout",
     "output_type": "stream",
     "text": [
      "[0, 1, 2, 3, 4, 5, 6, 7, 0, 1, 2, 3, 4, 5, 6, 7]\n",
      "[0, 1, 3, 4, 5, 6, 7, 0, 1, 2, 3, 4, 5, 6, 7]\n"
     ]
    }
   ],
   "source": [
    "# Remove \n",
    "#It removes the first instance of the item\n",
    "x= list(range(8))\n",
    "x = x*2\n",
    "print(x)\n",
    "x.remove(2)\n",
    "print(x)\n"
   ]
  },
  {
   "cell_type": "code",
   "execution_count": 39,
   "id": "f4cde744",
   "metadata": {},
   "outputs": [
    {
     "name": "stdout",
     "output_type": "stream",
     "text": [
      "[7, 6, 5, 4, 3, 2, 1, 0]\n"
     ]
    }
   ],
   "source": [
    "# Reverse\n",
    "# Reverse the orders of the list or sequence\n",
    "x= list(range(8))\n",
    "x.reverse()\n",
    "print(x)\n",
    "\n"
   ]
  },
  {
   "cell_type": "code",
   "execution_count": 42,
   "id": "942d58e8",
   "metadata": {},
   "outputs": [
    {
     "name": "stdout",
     "output_type": "stream",
     "text": [
      "[-1, 0, 1, 2, 2, 4, 6, 8]\n",
      "[8, 6, 4, 2, 2, 1, 0, -1]\n"
     ]
    }
   ],
   "source": [
    "# Sort is a method\n",
    "#It sorts the current list\n",
    "x= [2,6,8,4,1,0,2,-1]\n",
    "x.sort()\n",
    "print(x)\n",
    "\n",
    "\n",
    "x= [2,6,8,4,1,0,2,-1]\n",
    "x.sort(reverse= True)\n",
    "print(x)"
   ]
  },
  {
   "cell_type": "code",
   "execution_count": 43,
   "id": "3e09bc5d",
   "metadata": {},
   "outputs": [],
   "source": [
    "# Tuples\n",
    "# They are faster than lists"
   ]
  },
  {
   "cell_type": "code",
   "execution_count": 45,
   "id": "87f3bf32",
   "metadata": {},
   "outputs": [
    {
     "name": "stdout",
     "output_type": "stream",
     "text": [
      "<class 'tuple'>\n",
      "<class 'list'>\n",
      "<class 'tuple'>\n"
     ]
    }
   ],
   "source": [
    "x= ()\n",
    "x= (1,2,3)\n",
    "x= 1,2,3\n",
    "x=1,\n",
    "x=(2,)\n",
    "print(type(x))\n",
    "\n",
    "x=[1,2,3]\n",
    "y= tuple(x)\n",
    "print(type(x))\n",
    "print(type(y))"
   ]
  },
  {
   "cell_type": "code",
   "execution_count": 46,
   "id": "805771bc",
   "metadata": {},
   "outputs": [],
   "source": [
    "# We can't cahnge items in alist but we can change items which are immutable in a tuple, like list"
   ]
  },
  {
   "cell_type": "code",
   "execution_count": 52,
   "id": "8a8197a2",
   "metadata": {},
   "outputs": [
    {
     "name": "stdout",
     "output_type": "stream",
     "text": [
      "(1, 2, [5, 4], 5)\n",
      "(1, 2, [4], 5)\n",
      "(1, 2, [], 5)\n"
     ]
    }
   ],
   "source": [
    "x=(1,2,[3,4],5)\n",
    "#x[1]=4  # This will give error\n",
    "x[2][0] = 5  # This will work\n",
    "print(x)\n",
    "\n",
    "del(x[2][0])  # This will work\n",
    "print(x)\n",
    "\n",
    "del(x[2][0])  # This will work\n",
    "print(x)\n",
    "\n",
    "\n"
   ]
  },
  {
   "cell_type": "code",
   "execution_count": 55,
   "id": "ec50567e",
   "metadata": {},
   "outputs": [
    {
     "name": "stdout",
     "output_type": "stream",
     "text": [
      "{3, 4, 5, 6}\n",
      "{3, 4, 5, 6}\n"
     ]
    }
   ],
   "source": [
    "# Sets\n",
    "#Collection of unique items\n",
    "\n",
    "x= {3,4,5,6}\n",
    "print(x)\n",
    "\n",
    "\n",
    "x= {3,4,5,6,3,6}  # It will delete duplicates\n",
    "print(x)"
   ]
  },
  {
   "cell_type": "code",
   "execution_count": 56,
   "id": "de537c85",
   "metadata": {},
   "outputs": [
    {
     "name": "stdout",
     "output_type": "stream",
     "text": [
      "{3, 4, 5, 6, 'set'}\n",
      "{3, 4, 5, 'set'}\n",
      "4\n"
     ]
    }
   ],
   "source": [
    "# Set operations\n",
    "\n",
    "x= {3,4,5,6}\n",
    "x.add('set')\n",
    "print(x)\n",
    "\n",
    "x.remove(6)\n",
    "print(x)\n",
    "print(len(x))"
   ]
  },
  {
   "cell_type": "code",
   "execution_count": 60,
   "id": "592296f8",
   "metadata": {},
   "outputs": [
    {
     "name": "stdout",
     "output_type": "stream",
     "text": [
      "{'1': 2.5, 'f': 56, 'jk': 'er'}\n",
      "{'1': 2.5, 'f': 56, 'jk': 'er'}\n",
      "{'l': 2.5, 'f': 56, 'jk': 'er'}\n",
      "dict_keys(['l', 'f', 'jk'])\n",
      "dict_values([2.5, 56, 'er'])\n",
      "dict_items([('l', 2.5), ('f', 56), ('jk', 'er')])\n"
     ]
    }
   ],
   "source": [
    "# Dictionaries\n",
    "\n",
    "x= {'1':2.5,'f':56,\"jk\":'er'}\n",
    "print(x)\n",
    "\n",
    "x= dict([('1',2.5),('f',56),(\"jk\",'er')])\n",
    "print(x)\n",
    "\n",
    "x= dict(l=2.5,f=56,jk='er')\n",
    "print(x)\n",
    "\n",
    "print(x.keys())\n",
    "print(x.values())\n",
    "print(x.items())\n"
   ]
  },
  {
   "cell_type": "code",
   "execution_count": 62,
   "id": "ecd80f27",
   "metadata": {},
   "outputs": [
    {
     "name": "stdout",
     "output_type": "stream",
     "text": [
      "{'1': 2.5, 'f': 56, 'jk': 'er'}\n",
      "1 2.5\n",
      "f 56\n",
      "jk er\n",
      "1 2.5\n",
      "f 56\n",
      "jk er\n"
     ]
    }
   ],
   "source": [
    "\n",
    "x= {'1':2.5,'f':56,\"jk\":'er'}\n",
    "print(x)\n",
    "\n",
    "for key in x:\n",
    "    print(key,x[key])\n",
    "    \n",
    "for key,values in x.items():\n",
    "    print(key,values)    "
   ]
  },
  {
   "cell_type": "code",
   "execution_count": 63,
   "id": "13d97d4b",
   "metadata": {},
   "outputs": [
    {
     "name": "stdout",
     "output_type": "stream",
     "text": [
      "['2', '4']\n"
     ]
    }
   ],
   "source": [
    "# get all numbers from string\n",
    "x ='hello i am 2 times the 4 of u'\n",
    "numbers= [n for n in x if n.isnumeric()]\n",
    "print(numbers)"
   ]
  },
  {
   "cell_type": "code",
   "execution_count": 65,
   "id": "e10edde5",
   "metadata": {},
   "outputs": [
    {
     "name": "stdout",
     "output_type": "stream",
     "text": [
      "[2, 4]\n"
     ]
    }
   ],
   "source": [
    "# get index of an item from a list\n",
    "\n",
    "x= ['hello', 'yello', 'bye','german','bye']\n",
    "k = [index for index,values in enumerate(x) if values =='bye']\n",
    "print(k)"
   ]
  },
  {
   "cell_type": "markdown",
   "id": "fdadcade",
   "metadata": {},
   "source": [
    "# Stacks\n",
    "#It is a Last in and first out data structure\n",
    "#push,pop,peek,clear\n",
    "#Undo is like an stack command as it can pop the last command"
   ]
  },
  {
   "cell_type": "code",
   "execution_count": 7,
   "id": "cb1c51ea",
   "metadata": {},
   "outputs": [],
   "source": [
    "# Creating a Stack class\n",
    "\n",
    "class Stack():\n",
    "    def __init__(self):\n",
    "        self.stack = list()\n",
    "    def push(self,item):\n",
    "        return self.stack.append(item)\n",
    "    def pop(self):\n",
    "        if len(self.stack) >0:\n",
    "            return self.stack.pop()\n",
    "        else:\n",
    "            return None\n",
    "    def peek(self):\n",
    "        if len(self.stack) >0:\n",
    "            return self.stack[-1]\n",
    "        else:\n",
    "            return None\n",
    "    def __str__(self):\n",
    "        return str(self.stack)\n",
    "    \n",
    "# Practice\n",
    "class stacked():\n",
    "    def __init__(self):\n",
    "        self.stack = list()\n",
    "    \n",
    "    def push(self,item):\n",
    "        return self.stack.append(item)\n",
    "        \n",
    "    \n",
    "    def pop(self):\n",
    "        if len(self.stack)>0:\n",
    "            return self.stack.pop()\n",
    "        else:\n",
    "            return None\n",
    "    \n",
    "    def peek(self):\n",
    "        if len(self.stack)>0:\n",
    "            return self.stack[-1]\n",
    "        else:\n",
    "            return None\n",
    "    def __str__(self):\n",
    "        return str(self.stack)"
   ]
  },
  {
   "cell_type": "code",
   "execution_count": 8,
   "id": "43915337",
   "metadata": {},
   "outputs": [
    {
     "name": "stdout",
     "output_type": "stream",
     "text": [
      "[2, 3, 4]\n",
      "4\n",
      "[2, 3]\n",
      "3\n",
      "[2, 3]\n",
      "3\n",
      "[2]\n",
      "2\n",
      "[]\n",
      "None\n"
     ]
    }
   ],
   "source": [
    "my_stack =stacked()\n",
    "my_stack.push(2)\n",
    "my_stack.push(3)\n",
    "my_stack.push(4)\n",
    "print(my_stack)\n",
    "print(my_stack.pop())\n",
    "print(my_stack)\n",
    "print(my_stack.peek())\n",
    "print(my_stack)\n",
    "print(my_stack.pop())\n",
    "print(my_stack)\n",
    "print(my_stack.pop())\n",
    "print(my_stack)\n",
    "print(my_stack.pop())\n"
   ]
  },
  {
   "cell_type": "code",
   "execution_count": null,
   "id": "460c1e9c",
   "metadata": {},
   "outputs": [],
   "source": []
  },
  {
   "cell_type": "code",
   "execution_count": 75,
   "id": "d3b7a8d4",
   "metadata": {},
   "outputs": [],
   "source": [
    "# Queues\n",
    "# First in first out\n",
    "#enque,deque\n"
   ]
  },
  {
   "cell_type": "code",
   "execution_count": 9,
   "id": "90c1285d",
   "metadata": {},
   "outputs": [],
   "source": [
    "# Creating a Queue class\n",
    "\n",
    "class Queue():\n",
    "    def __init__(self):\n",
    "        self.stack = list()\n",
    "    def append(self,item):\n",
    "        return self.stack.append(item)\n",
    "    def pop(self):\n",
    "        if len(self.stack) >0:\n",
    "            del(self.stack[0])\n",
    "            return self.stack\n",
    "        else:\n",
    "            return None\n",
    "\n",
    "    def __str__(self):\n",
    "        return str(self.stack)"
   ]
  },
  {
   "cell_type": "code",
   "execution_count": 12,
   "id": "fac02672",
   "metadata": {},
   "outputs": [
    {
     "name": "stdout",
     "output_type": "stream",
     "text": [
      "[5, 10, 1, 17]\n",
      "[10, 1, 17]\n",
      "[1, 17]\n"
     ]
    }
   ],
   "source": [
    "my_queue = Queue()\n",
    "my_queue.append(5)\n",
    "my_queue.append(10)\n",
    "my_queue.append(1)\n",
    "my_queue.append(17)\n",
    "print(my_queue)\n",
    "print(my_queue.pop())\n",
    "print(my_queue.pop())\n"
   ]
  },
  {
   "cell_type": "code",
   "execution_count": 13,
   "id": "002937ad",
   "metadata": {},
   "outputs": [
    {
     "name": "stdout",
     "output_type": "stream",
     "text": [
      "deque([5, 10, 1, 17])\n",
      "17\n",
      "deque([5, 10, 1])\n",
      "1\n"
     ]
    }
   ],
   "source": [
    "from collections import deque\n",
    "my_queue = deque()\n",
    "my_queue.append(5)\n",
    "my_queue.append(10)\n",
    "my_queue.append(1)\n",
    "my_queue.append(17)\n",
    "print(my_queue)\n",
    "print(my_queue.pop())\n",
    "print(my_queue)\n",
    "print(my_queue.pop())\n",
    "\n"
   ]
  },
  {
   "cell_type": "markdown",
   "id": "58cb7597",
   "metadata": {},
   "source": [
    "# Max Heap\n",
    "# child node is lesser than the parent nodes\n",
    "#Insert in O(logn)\n",
    "#Get Max in O(1)\n",
    "#Remove Max in O(logn)\n",
    "\n",
    "# Easy to implement using List"
   ]
  },
  {
   "cell_type": "markdown",
   "id": "02b70d61",
   "metadata": {},
   "source": [
    "# Max heap operations\n",
    "#push, peek(get max), pop(max)\n",
    "\n",
    "#1. insert -> add value to the end of the array, float it up to its proper position\n",
    "#2. peek -> returns the value at the top\n",
    "#3. pop -> move max to the end of the array,delete it, bubble down the \n",
    "#term at index 1 to its proper position, return max"
   ]
  },
  {
   "cell_type": "code",
   "execution_count": 7,
   "id": "90c4aea8",
   "metadata": {},
   "outputs": [],
   "source": [
    "class MaxHeap():\n",
    "    def __init__(self,items=[]):\n",
    "        #super().__init__()\n",
    "        self.heap = [0]\n",
    "        for item in items:\n",
    "            self.heap.append(item)\n",
    "            self.__floatUp(len(self.heap)-1)\n",
    "          \n",
    "    def push(self, data):\n",
    "        self.heap.append(data)\n",
    "        self.__floatUp(len(self.heap)-1)\n",
    "        \n",
    "    def peek(self):\n",
    "        if self.heap[1]:\n",
    "            return self.heap[1]\n",
    "        else:\n",
    "            return False\n",
    "        \n",
    "    def pop(self):\n",
    "        if len(self.heap)>2:\n",
    "            self.__swap(1,len(self.heap)-1)\n",
    "            max = self.heap.pop()\n",
    "            self.__bubbleDown(1)\n",
    "        elif len(self.heap) == 2:\n",
    "            max = self.heap.pop()\n",
    "        else:\n",
    "            max= False\n",
    "        return max \n",
    "    \n",
    "    def __swap(self, i , j):\n",
    "        self.heap[i], self.heap[j] = self.heap[j], self.heap[i]\n",
    "        \n",
    "    def __floatUp(self,index):\n",
    "        parent = index // 2\n",
    "        if index <= 1:\n",
    "            return\n",
    "        elif self.heap[index] > self.heap[parent]:\n",
    "            self.__swap(index, parent)\n",
    "            self.__floatUp(parent)\n",
    "            \n",
    "    def __bubbleDown(self, index):\n",
    "        left = index * 2\n",
    "        right = index * 2 +1\n",
    "        largest = index\n",
    "        if len(self.heap)> left and self.heap[largest] < self.heap[left]:\n",
    "            largest = left\n",
    "        if len(self.heap)> right and self.heap[largest] < self.heap[right]:\n",
    "            largest = right\n",
    "        if largest != index:\n",
    "            self.__swap(index, largest)\n",
    "            self.__bubbleDown(largest)\n",
    "            \n",
    "    def __str__(self):\n",
    "        return str(self.heap)\n",
    "            \n",
    "        \n",
    "                  \n",
    "        \n",
    "    "
   ]
  },
  {
   "cell_type": "code",
   "execution_count": 8,
   "id": "7244f1e9",
   "metadata": {},
   "outputs": [
    {
     "name": "stdout",
     "output_type": "stream",
     "text": [
      "[0, 19, 15, 16, 2, 12, 5, 1]\n",
      "[0, 24, 19, 16, 15, 12, 5, 1, 2]\n",
      "24\n",
      "19\n"
     ]
    }
   ],
   "source": [
    "m = MaxHeap([19,12,5,2,15,16,1])\n",
    "print(m)\n",
    "m.push(24)\n",
    "print(m)\n",
    "print(m.pop())\n",
    "print(m.peek())"
   ]
  },
  {
   "cell_type": "code",
   "execution_count": null,
   "id": "d1efd084",
   "metadata": {},
   "outputs": [],
   "source": [
    "## Linked List"
   ]
  },
  {
   "cell_type": "code",
   "execution_count": 11,
   "id": "8b6d2d9c",
   "metadata": {},
   "outputs": [],
   "source": [
    " class Node:\n",
    "        \n",
    "        def __init__(self, d, n = None , p = None):\n",
    "            self.data = d\n",
    "            self.next_node = n\n",
    "            self.prev_node = p\n",
    "            \n",
    "        def __str__ (self):\n",
    "            return('(' + str(self.data) + ')')"
   ]
  },
  {
   "cell_type": "code",
   "execution_count": 9,
   "id": "b505b602",
   "metadata": {},
   "outputs": [],
   "source": [
    "class LinkedList:\n",
    "    \n",
    "    def __init__(self, r =None):\n",
    "        self.root = r\n",
    "        self.size = 0\n",
    "    \n",
    "    def add(self, d):\n",
    "        new_node = Node(d, self.root)\n",
    "        self.root = new_node\n",
    "        self.size += 1\n",
    "        \n",
    "    def find(self, d):\n",
    "        this_node = self.root\n",
    "        while this_node is not None:\n",
    "            if this_node.data == d:\n",
    "                return(d)\n",
    "            else:\n",
    "                this_node = this_node.next_node\n",
    "        return None\n",
    "    \n",
    "    def remove(self, d):\n",
    "        this_node = self.root\n",
    "        prev_node = None\n",
    "        \n",
    "        while this_node is not None:\n",
    "            if this_node.data == d:\n",
    "                if prev_node is not None:\n",
    "                    prev_node.next_node = this_node.next_node\n",
    "                else:\n",
    "                    self.root = this_node.next_node\n",
    "                self.size -= 1\n",
    "                return True\n",
    "             \n",
    "            else:\n",
    "                prev_node = this_node\n",
    "                this_node =this_node.next_node\n",
    "        return False\n",
    "    \n",
    "    def print_list(self):\n",
    "        this_node = self.root\n",
    "        while this_node is not None:\n",
    "            print(this_node, end ='->')\n",
    "            this_node = this_node.next_node\n",
    "        print('None')    \n",
    "        \n",
    "        \n",
    "        \n",
    "        \n",
    "        \n",
    "        \n",
    "        \n",
    "        \n",
    "        \n",
    "        \n",
    "        \n",
    "        \n",
    "        \n",
    "    "
   ]
  },
  {
   "cell_type": "code",
   "execution_count": 12,
   "id": "8f007789",
   "metadata": {},
   "outputs": [
    {
     "name": "stdout",
     "output_type": "stream",
     "text": [
      "(12)->(8)->(5)->None\n",
      "size=3\n",
      "size=2\n",
      "12\n",
      "(12)\n"
     ]
    }
   ],
   "source": [
    "my_list = LinkedList()\n",
    "my_list.add(5)\n",
    "my_list.add(8)\n",
    "my_list.add(12)\n",
    "my_list.print_list()\n",
    "\n",
    "print('size=' + str(my_list.size))\n",
    "my_list.remove(8)\n",
    "print('size=' + str(my_list.size))\n",
    "print(my_list.find(12))\n",
    "print(my_list.root)\n"
   ]
  },
  {
   "cell_type": "code",
   "execution_count": 12,
   "id": "62da5413",
   "metadata": {},
   "outputs": [],
   "source": [
    "## Circular Linked List"
   ]
  },
  {
   "cell_type": "code",
   "execution_count": 20,
   "id": "ee76937b",
   "metadata": {},
   "outputs": [],
   "source": [
    "class CircularLinkedList:\n",
    "    \n",
    "    def __init__(self, r =None):\n",
    "        self.root = r\n",
    "        self.size = 0\n",
    "    \n",
    "    def add(self, d):\n",
    "        if self.size == 0:\n",
    "            self.root = Node(d)\n",
    "            self.root.next_node = self.root\n",
    "            \n",
    "        else:\n",
    "            new_node = Node(d, self.root.next_node)\n",
    "            self.root.next_node = new_node\n",
    "        self.size += 1\n",
    "        \n",
    "        \n",
    "    def find(self, d):\n",
    "        this_node = self.root\n",
    "        while True:\n",
    "            if this_node.data == d:\n",
    "                return(d)\n",
    "            elif this_node.next_node == self.root:\n",
    "                return False\n",
    "            this_node = this_node.next_node\n",
    "                    \n",
    "        \n",
    "    \n",
    "    def remove(self, d):\n",
    "        this_node = self.root\n",
    "        prev_node = None\n",
    "        \n",
    "        while True:\n",
    "            if this_node.data == d:\n",
    "                if prev_node is not None:\n",
    "                    prev_node.next_node = this_node.next_node\n",
    "                else:\n",
    "                    while this_node.next_node != self.root:\n",
    "                        this_node = this_node.next_node\n",
    "                    this_node.next_node = selflf.root.next_node\n",
    "                    self.root = self.root.next_node\n",
    "                self.size -= 1\n",
    "                return True\n",
    "             \n",
    "            elif this_node.next_node == self.root:\n",
    "                return False\n",
    "            prev_node = this_node\n",
    "            this_node =this_node.next_node\n",
    "        \n",
    "    \n",
    "    def print_list(self):\n",
    "        if self.root is None:\n",
    "            return\n",
    "        \n",
    "        this_node = self.root\n",
    "        print(this_node, end ='->')\n",
    "        while this_node.next_node != self.root:\n",
    "                      \n",
    "            this_node = this_node.next_node\n",
    "            print(this_node, end ='->')\n",
    "        print() "
   ]
  },
  {
   "cell_type": "code",
   "execution_count": 21,
   "id": "276f595d",
   "metadata": {},
   "outputs": [
    {
     "name": "stdout",
     "output_type": "stream",
     "text": [
      "size=5\n",
      "8\n",
      "False\n",
      "(5)->(9)->(8)->(3)->(7)->(5)->(9)->(8)->(3)->\n"
     ]
    }
   ],
   "source": [
    "cll = CircularLinkedList()\n",
    "for i in [5, 7, 3, 8, 9]:\n",
    "    cll.add(i)\n",
    "\n",
    "print('size=' + str(cll.size))\n",
    "print(cll.find(8))\n",
    "print(cll.find(12))\n",
    "my_node = cll.root\n",
    "print(my_node, end ='->')\n",
    "\n",
    "for i in range(8):\n",
    "    my_node = my_node.next_node\n",
    "    print(my_node, end ='->')\n",
    "print()\n",
    "    "
   ]
  },
  {
   "cell_type": "code",
   "execution_count": 22,
   "id": "ced5534c",
   "metadata": {},
   "outputs": [
    {
     "name": "stdout",
     "output_type": "stream",
     "text": [
      "(5)->(9)->(8)->(3)->(7)->\n",
      "False\n",
      "size=4\n",
      "(5)->(9)->(3)->(7)->\n"
     ]
    }
   ],
   "source": [
    "cll.print_list()\n",
    "cll.remove(8)\n",
    "print(cll.remove(15))\n",
    "\n",
    "print('size=' + str(cll.size))\n",
    "cll.print_list()"
   ]
  },
  {
   "cell_type": "code",
   "execution_count": 1,
   "id": "ba73169a",
   "metadata": {},
   "outputs": [],
   "source": [
    "## Rough work"
   ]
  },
  {
   "cell_type": "code",
   "execution_count": 6,
   "id": "7e34c9ae",
   "metadata": {},
   "outputs": [
    {
     "ename": "TypeError",
     "evalue": "can only concatenate list (not \"int\") to list",
     "output_type": "error",
     "traceback": [
      "\u001b[1;31m---------------------------------------------------------------------------\u001b[0m",
      "\u001b[1;31mTypeError\u001b[0m                                 Traceback (most recent call last)",
      "\u001b[1;32m<ipython-input-6-f29d7bda1da0>\u001b[0m in \u001b[0;36m<module>\u001b[1;34m\u001b[0m\n\u001b[0;32m      1\u001b[0m \u001b[0mlst\u001b[0m \u001b[1;33m=\u001b[0m \u001b[1;33m[\u001b[0m\u001b[1;36m0\u001b[0m\u001b[1;33m,\u001b[0m\u001b[1;36m0\u001b[0m\u001b[1;33m,\u001b[0m\u001b[1;36m0\u001b[0m\u001b[1;33m]\u001b[0m\u001b[1;33m\u001b[0m\u001b[1;33m\u001b[0m\u001b[0m\n\u001b[1;32m----> 2\u001b[1;33m \u001b[0mlst\u001b[0m\u001b[1;33m[\u001b[0m\u001b[1;36m0\u001b[0m\u001b[1;33m:\u001b[0m\u001b[1;36m2\u001b[0m\u001b[1;33m]\u001b[0m\u001b[1;33m=\u001b[0m\u001b[0mlst\u001b[0m\u001b[1;33m[\u001b[0m\u001b[1;36m0\u001b[0m\u001b[1;33m:\u001b[0m\u001b[1;36m2\u001b[0m\u001b[1;33m]\u001b[0m \u001b[1;33m+\u001b[0m \u001b[1;36m10\u001b[0m\u001b[1;33m\u001b[0m\u001b[1;33m\u001b[0m\u001b[0m\n\u001b[0m\u001b[0;32m      3\u001b[0m \u001b[0mlst\u001b[0m\u001b[1;33m\u001b[0m\u001b[1;33m\u001b[0m\u001b[0m\n",
      "\u001b[1;31mTypeError\u001b[0m: can only concatenate list (not \"int\") to list"
     ]
    }
   ],
   "source": [
    "lst = [0,0,0]\n",
    "lst[0:2]=lst[0:2] + 10\n",
    "lst"
   ]
  },
  {
   "cell_type": "code",
   "execution_count": 7,
   "id": "a8f6ea19",
   "metadata": {},
   "outputs": [],
   "source": [
    "from collections import Counter\n",
    "\n",
    "def arrayManipulation(n, queries):\n",
    "    c = Counter()\n",
    "    for a,b,k in queries:\n",
    "        c[a]  +=k\n",
    "        c[b+1]-=k\n",
    "    arrSum = 0\n",
    "    maxSum = 0\n",
    "    for i in sorted(c)[:-1]:\n",
    "        arrSum+= c[i]\n",
    "        maxSum = max(maxSum,arrSum)\n",
    "    return maxSum"
   ]
  },
  {
   "cell_type": "code",
   "execution_count": 8,
   "id": "79851264",
   "metadata": {},
   "outputs": [],
   "source": [
    "n = 10\n",
    "queries = [[1,5,3],[4,8,7],[6,9,1]]"
   ]
  },
  {
   "cell_type": "code",
   "execution_count": 9,
   "id": "1eb481d6",
   "metadata": {},
   "outputs": [],
   "source": [
    "c = Counter()\n",
    "for a,b,k in queries:\n",
    "    c[a]  +=k\n",
    "    c[b+1]-=k"
   ]
  },
  {
   "cell_type": "code",
   "execution_count": 10,
   "id": "cecfd7ac",
   "metadata": {},
   "outputs": [
    {
     "data": {
      "text/plain": [
       "Counter({1: 3, 6: -2, 4: 7, 9: -7, 10: -1})"
      ]
     },
     "execution_count": 10,
     "metadata": {},
     "output_type": "execute_result"
    }
   ],
   "source": [
    "c"
   ]
  },
  {
   "cell_type": "code",
   "execution_count": 12,
   "id": "0883155a",
   "metadata": {},
   "outputs": [
    {
     "data": {
      "text/plain": [
       "[1, 4, 6, 9]"
      ]
     },
     "execution_count": 12,
     "metadata": {},
     "output_type": "execute_result"
    }
   ],
   "source": [
    "sorted(c)[:-1]"
   ]
  },
  {
   "cell_type": "code",
   "execution_count": null,
   "id": "5401c395",
   "metadata": {},
   "outputs": [],
   "source": []
  }
 ],
 "metadata": {
  "kernelspec": {
   "display_name": "Python 3",
   "language": "python",
   "name": "python3"
  },
  "language_info": {
   "codemirror_mode": {
    "name": "ipython",
    "version": 3
   },
   "file_extension": ".py",
   "mimetype": "text/x-python",
   "name": "python",
   "nbconvert_exporter": "python",
   "pygments_lexer": "ipython3",
   "version": "3.7.10"
  }
 },
 "nbformat": 4,
 "nbformat_minor": 5
}
