{
 "cells": [
  {
   "cell_type": "code",
   "execution_count": 1,
   "id": "e374a28e",
   "metadata": {},
   "outputs": [],
   "source": [
    "# Queue"
   ]
  },
  {
   "cell_type": "code",
   "execution_count": 2,
   "id": "03357727",
   "metadata": {},
   "outputs": [],
   "source": [
    "from collections import deque"
   ]
  },
  {
   "cell_type": "code",
   "execution_count": 5,
   "id": "084d89de",
   "metadata": {},
   "outputs": [
    {
     "name": "stdout",
     "output_type": "stream",
     "text": [
      "deque([3, 4, 5])\n",
      "3\n",
      "deque([4, 5])\n"
     ]
    }
   ],
   "source": [
    "my_queue = deque()\n",
    "my_queue.append(3)\n",
    "my_queue.append(4)\n",
    "my_queue.append(5)\n",
    "print(my_queue)\n",
    "print(my_queue.popleft())\n",
    "print(my_queue)"
   ]
  },
  {
   "cell_type": "code",
   "execution_count": null,
   "id": "fba65372",
   "metadata": {},
   "outputs": [],
   "source": []
  }
 ],
 "metadata": {
  "kernelspec": {
   "display_name": "Python 3",
   "language": "python",
   "name": "python3"
  },
  "language_info": {
   "codemirror_mode": {
    "name": "ipython",
    "version": 3
   },
   "file_extension": ".py",
   "mimetype": "text/x-python",
   "name": "python",
   "nbconvert_exporter": "python",
   "pygments_lexer": "ipython3",
   "version": "3.7.3"
  }
 },
 "nbformat": 4,
 "nbformat_minor": 5
}
