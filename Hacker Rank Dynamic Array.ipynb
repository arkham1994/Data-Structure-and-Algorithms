{
 "cells": [
  {
   "cell_type": "code",
   "execution_count": 38,
   "id": "212257a9",
   "metadata": {},
   "outputs": [],
   "source": [
    "queries = ['1 0 5','1 1 7','1 0 3','2 1 0','2 1 1']\n",
    "n = 2"
   ]
  },
  {
   "cell_type": "code",
   "execution_count": 39,
   "id": "be6dd99b",
   "metadata": {},
   "outputs": [],
   "source": [
    "\n",
    "def dynamicArray(n, queries):\n",
    "    arr =[]\n",
    "    \n",
    "    for i in range(0,n):\n",
    "        arr.append([])\n",
    "    ans =[]\n",
    "    lastAnswer = 0\n",
    "    for query in queries:\n",
    "        query = query.split(' ')\n",
    "        if query[0] == '1':\n",
    "            index = ((int(query[1]) ^ lastAnswer) % n)\n",
    "            arr[index].append(int(query[2]))\n",
    "            print(arr)\n",
    "        else:\n",
    "            index = ((int(query[1]) ^ lastAnswer) % n)\n",
    "                \n",
    "            if len(arr[index]) > 0:\n",
    "                sec_index = int(query[2]) % len(arr[index])\n",
    "                lastAnswer = arr[index][sec_index] \n",
    "                ans.append(lastAnswer)\n",
    "                \n",
    "                print(lastAnswer) \n",
    "    print(ans)            \n",
    "    return ans "
   ]
  },
  {
   "cell_type": "code",
   "execution_count": 40,
   "id": "b657d22c",
   "metadata": {},
   "outputs": [
    {
     "name": "stdout",
     "output_type": "stream",
     "text": [
      "[[5], []]\n",
      "[[5], [7]]\n",
      "[[5, 3], [7]]\n",
      "7\n",
      "3\n",
      "[7, 3]\n"
     ]
    }
   ],
   "source": [
    "k = dynamicArray(n, queries)"
   ]
  },
  {
   "cell_type": "code",
   "execution_count": 41,
   "id": "83ff4ae4",
   "metadata": {},
   "outputs": [
    {
     "data": {
      "text/plain": [
       "True"
      ]
     },
     "execution_count": 41,
     "metadata": {},
     "output_type": "execute_result"
    }
   ],
   "source": [
    "k ==[7,3]"
   ]
  },
  {
   "cell_type": "code",
   "execution_count": 12,
   "id": "a1cba095",
   "metadata": {},
   "outputs": [
    {
     "data": {
      "text/plain": [
       "[[], []]"
      ]
     },
     "execution_count": 12,
     "metadata": {},
     "output_type": "execute_result"
    }
   ],
   "source": [
    "arr =[]\n",
    "for i in range(0,2):\n",
    "    arr.append([])\n",
    "arr    "
   ]
  },
  {
   "cell_type": "code",
   "execution_count": 13,
   "id": "d841e7b5",
   "metadata": {},
   "outputs": [
    {
     "data": {
      "text/plain": [
       "[[1], []]"
      ]
     },
     "execution_count": 13,
     "metadata": {},
     "output_type": "execute_result"
    }
   ],
   "source": [
    "arr[0].append(1)\n",
    "arr"
   ]
  },
  {
   "cell_type": "code",
   "execution_count": 14,
   "id": "61d33272",
   "metadata": {},
   "outputs": [
    {
     "data": {
      "text/plain": [
       "[[1], [5]]"
      ]
     },
     "execution_count": 14,
     "metadata": {},
     "output_type": "execute_result"
    }
   ],
   "source": [
    "arr[1].append(5)\n",
    "arr"
   ]
  },
  {
   "cell_type": "code",
   "execution_count": 7,
   "id": "6d268f5e",
   "metadata": {},
   "outputs": [
    {
     "data": {
      "text/plain": [
       "[[3, 5], [3, 5]]"
      ]
     },
     "execution_count": 7,
     "metadata": {},
     "output_type": "execute_result"
    }
   ],
   "source": [
    "arr[1][0] =3\n",
    "arr"
   ]
  },
  {
   "cell_type": "code",
   "execution_count": 8,
   "id": "72b6d9cc",
   "metadata": {},
   "outputs": [
    {
     "data": {
      "text/plain": [
       "[[5], []]"
      ]
     },
     "execution_count": 8,
     "metadata": {},
     "output_type": "execute_result"
    }
   ],
   "source": [
    "arr =[[],[]]\n",
    "arr[0].append(5)\n",
    "arr"
   ]
  },
  {
   "cell_type": "code",
   "execution_count": 37,
   "id": "551b2ec1",
   "metadata": {},
   "outputs": [
    {
     "data": {
      "text/plain": [
       "['1', '0', '5']"
      ]
     },
     "execution_count": 37,
     "metadata": {},
     "output_type": "execute_result"
    }
   ],
   "source": [
    "s ='1 0 5'.split(' ')\n",
    "s"
   ]
  },
  {
   "cell_type": "code",
   "execution_count": 43,
   "id": "15651f56",
   "metadata": {},
   "outputs": [
    {
     "name": "stdout",
     "output_type": "stream",
     "text": [
      "1 0 5\n",
      "1 1 7\n",
      "1 0 3\n",
      "2 1 0\n",
      "2 1 1\n"
     ]
    }
   ],
   "source": [
    "queries = ['105','117','103','210','211']\n",
    "for q,x,y in queries:\n",
    "    print(q,x,y)"
   ]
  },
  {
   "cell_type": "code",
   "execution_count": null,
   "id": "3a293170",
   "metadata": {},
   "outputs": [],
   "source": []
  }
 ],
 "metadata": {
  "kernelspec": {
   "display_name": "Python 3",
   "language": "python",
   "name": "python3"
  },
  "language_info": {
   "codemirror_mode": {
    "name": "ipython",
    "version": 3
   },
   "file_extension": ".py",
   "mimetype": "text/x-python",
   "name": "python",
   "nbconvert_exporter": "python",
   "pygments_lexer": "ipython3",
   "version": "3.7.3"
  }
 },
 "nbformat": 4,
 "nbformat_minor": 5
}
