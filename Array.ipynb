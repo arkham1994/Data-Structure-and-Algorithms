{
 "cells": [
  {
   "cell_type": "code",
   "execution_count": 4,
   "id": "5ab6eadc",
   "metadata": {},
   "outputs": [
    {
     "name": "stdout",
     "output_type": "stream",
     "text": [
      "5 4 3 2 1 \n"
     ]
    }
   ],
   "source": [
    "# Reverse print an array\n",
    "\n",
    "arr = [1,2,3,4,5]\n",
    "def rev_print(arr):\n",
    "    index = len(arr) - 1\n",
    "    while index >= 0:\n",
    "        print(arr[index], end = ' ')\n",
    "        index -= 1\n",
    "    print() \n",
    "    \n",
    "rev_print(arr)        "
   ]
  },
  {
   "cell_type": "code",
   "execution_count": 5,
   "id": "cd0098f7",
   "metadata": {},
   "outputs": [
    {
     "data": {
      "text/plain": [
       "[5, 4, 3, 2, 1]"
      ]
     },
     "execution_count": 5,
     "metadata": {},
     "output_type": "execute_result"
    }
   ],
   "source": [
    "# Reverse an Array\n",
    "\n",
    "arr = [1,2,3,4,5]\n",
    "def rev_arr(arr):\n",
    "    lb = 0\n",
    "    ub = len(arr) - 1\n",
    "    while lb < ub:\n",
    "        temp = arr[lb]\n",
    "        arr[lb] = arr[ub]\n",
    "        arr[ub] = temp\n",
    "        lb += 1\n",
    "        ub -= 1\n",
    "    return arr \n",
    "\n",
    "k = rev_arr(arr)\n",
    "k"
   ]
  },
  {
   "cell_type": "code",
   "execution_count": 7,
   "id": "0f4af71f",
   "metadata": {},
   "outputs": [
    {
     "name": "stdout",
     "output_type": "stream",
     "text": [
      "Sum of even numbers in the array is: 6\n",
      "Sum of odd numbers in the array is: 9\n"
     ]
    }
   ],
   "source": [
    "# Sum of odd and even numbers separately\n",
    "\n",
    "arr = [1,2,3,4,5]\n",
    "\n",
    "def sum_e_o(arr):\n",
    "    sum_e = 0\n",
    "    sum_o = 0\n",
    "    for i in range(0, len(arr)):\n",
    "        if (arr[i] % 2) == 0:\n",
    "            sum_e += arr[i]\n",
    "        else:\n",
    "            sum_o += arr[i]\n",
    "    print(f'Sum of even numbers in the array is: {sum_e}')        \n",
    "    print(f'Sum of odd numbers in the array is: {sum_o}')\n",
    "    \n",
    "sum_e_o(arr)    "
   ]
  },
  {
   "cell_type": "code",
   "execution_count": 8,
   "id": "ff49dd01",
   "metadata": {},
   "outputs": [
    {
     "data": {
      "text/plain": [
       "(True, False)"
      ]
     },
     "execution_count": 8,
     "metadata": {},
     "output_type": "execute_result"
    }
   ],
   "source": [
    "# Check whether an array is in increasing order or not\n",
    "\n",
    "arr1 = [1,2,3,4,5]\n",
    "arr2 = [1,2,1,3,4]\n",
    "\n",
    "def check_inc(arr):\n",
    "    for i in range(0, len(arr) - 1):\n",
    "        if arr[i] > arr[i + 1]:\n",
    "            return False\n",
    "    return True\n",
    "\n",
    "check_inc(arr1),check_inc(arr2)\n"
   ]
  },
  {
   "cell_type": "code",
   "execution_count": 14,
   "id": "699a3fa1",
   "metadata": {},
   "outputs": [
    {
     "data": {
      "text/plain": [
       "(False, True)"
      ]
     },
     "execution_count": 14,
     "metadata": {},
     "output_type": "execute_result"
    }
   ],
   "source": [
    "# Check whether a given array is a Palindrome or not\n",
    "\n",
    "arr1 = [1,2,3,4,5]\n",
    "arr2 = [1,2,3,2,1]\n",
    "\n",
    "def ispalindrome(arr):\n",
    "    lb = 0\n",
    "    ub = len(arr) - 1\n",
    "    while lb < ub:\n",
    "        if arr[lb] != arr[ub]:\n",
    "            return False\n",
    "        lb += 1\n",
    "        ub -= 1\n",
    "    return True \n",
    "\n",
    "ispalindrome(arr1),ispalindrome(arr2)\n"
   ]
  },
  {
   "cell_type": "code",
   "execution_count": 22,
   "id": "689a66bb",
   "metadata": {},
   "outputs": [
    {
     "data": {
      "text/plain": [
       "[3, 4, 5, 1, 2]"
      ]
     },
     "execution_count": 22,
     "metadata": {},
     "output_type": "execute_result"
    }
   ],
   "source": [
    "# Left shift an array d times\n",
    "\n",
    "def left_shift(arr, d):\n",
    "    length = len(arr)\n",
    "    \n",
    "    if length <= 1:\n",
    "        return arr\n",
    "    \n",
    "    for i in range(0, d):\n",
    "        temp = arr[0]\n",
    "        for j in range(1, length):\n",
    "            arr[j - 1] = arr[j]\n",
    "        arr[-1] = temp\n",
    "        \n",
    "    return arr \n",
    "\n",
    "arr1 = [1,2,3,4,5]\n",
    "\n",
    "left_shift(arr1, 2)\n",
    "            "
   ]
  },
  {
   "cell_type": "code",
   "execution_count": 23,
   "id": "3e6cbbed",
   "metadata": {},
   "outputs": [
    {
     "data": {
      "text/plain": [
       "[4, 5, 1, 2, 3]"
      ]
     },
     "execution_count": 23,
     "metadata": {},
     "output_type": "execute_result"
    }
   ],
   "source": [
    "# Right shift an array d times\n",
    "\n",
    "def Right_shift(arr, d):\n",
    "    length = len(arr)\n",
    "    \n",
    "    if length <= 1:\n",
    "        return arr\n",
    "    \n",
    "    for i in range(0, d):\n",
    "        temp = arr[-1]\n",
    "        j = length - 1\n",
    "        while j > 0:\n",
    "            arr[j] = arr[j - 1]\n",
    "            j -= 1\n",
    "        arr[0] = temp\n",
    "        \n",
    "    return arr \n",
    "\n",
    "arr1 = [1,2,3,4,5]\n",
    "\n",
    "Right_shift(arr1, 2)\n",
    "            "
   ]
  },
  {
   "cell_type": "code",
   "execution_count": 33,
   "id": "3c4b5846",
   "metadata": {},
   "outputs": [
    {
     "data": {
      "text/plain": [
       "[1, 2, 3, 4, 9, 5, 6]"
      ]
     },
     "execution_count": 33,
     "metadata": {},
     "output_type": "execute_result"
    }
   ],
   "source": [
    "# Insert item at a particular position in an unsorted array\n",
    "\n",
    "def insert(arr, item, pos):\n",
    "    length = len(arr)\n",
    "    if pos < 1 or pos > length + 1:\n",
    "        return 'Invalid Position'\n",
    "    if pos == length + 1:\n",
    "        arr.append(item)\n",
    "        return arr\n",
    "    arr.append(0)\n",
    "    j = length - 1\n",
    "    while j >= pos-1:\n",
    "        arr[j + 1] = arr[j]\n",
    "        j -= 1\n",
    "    arr[pos - 1] = item\n",
    "    return arr\n",
    "\n",
    "arr1 = [1,2,3,4,5,6]\n",
    "\n",
    "insert(arr1, 9, 5)"
   ]
  },
  {
   "cell_type": "code",
   "execution_count": 40,
   "id": "527cf4bf",
   "metadata": {},
   "outputs": [
    {
     "data": {
      "text/plain": [
       "[1, 2, 3, 4, 5, 6, 8, 9]"
      ]
     },
     "execution_count": 40,
     "metadata": {},
     "output_type": "execute_result"
    }
   ],
   "source": [
    "# Insert item in a sorted array( We don't require position now)\n",
    "\n",
    "def insert_in_sorted(arr, item):\n",
    "    length = len(arr)\n",
    "    \n",
    "    arr.append(0)\n",
    "    \n",
    "    j = length - 1\n",
    "    while arr[j] >= item and j >= 0:\n",
    "        arr[j + 1] = arr[j]\n",
    "        j -= 1\n",
    "    arr[j + 1] = item\n",
    "    return arr\n",
    "\n",
    "arr1 = [1,2,3,4,5,6,9]\n",
    "\n",
    "insert_in_sorted(arr1, 8)"
   ]
  },
  {
   "cell_type": "code",
   "execution_count": 50,
   "id": "689e2571",
   "metadata": {},
   "outputs": [
    {
     "data": {
      "text/plain": [
       "[1, 2, 3, 5, 6]"
      ]
     },
     "execution_count": 50,
     "metadata": {},
     "output_type": "execute_result"
    }
   ],
   "source": [
    "# Delete item at a particular position in an  array\n",
    "\n",
    "def delete_item(arr, pos):\n",
    "    length = len(arr)\n",
    "    if pos < 1 or pos > length:\n",
    "        return 'Invalid Position to delete'\n",
    "    if pos == length:\n",
    "        arr.pop()\n",
    "        return arr\n",
    "    \n",
    "    \n",
    "    for i in range(pos, length):\n",
    "        arr[i - 1] = arr[i]\n",
    "    arr.pop()    \n",
    "    \n",
    "    return arr\n",
    "\n",
    "arr1 = [1,2,3,4,5,6]\n",
    "\n",
    "delete_item(arr1, 4)"
   ]
  },
  {
   "cell_type": "code",
   "execution_count": 57,
   "id": "1ea0160e",
   "metadata": {},
   "outputs": [
    {
     "data": {
      "text/plain": [
       "[1, 3, 4, 5, 6]"
      ]
     },
     "execution_count": 57,
     "metadata": {},
     "output_type": "execute_result"
    }
   ],
   "source": [
    "# Delete particular value/s in an  array\n",
    "\n",
    "def del_value(arr, item):\n",
    "    cnt = 0\n",
    "    length = len(arr)\n",
    "    for i in range(0, length):\n",
    "        if arr[i] == item:\n",
    "            cnt += 1\n",
    "        else:\n",
    "            arr[i - cnt] = arr[i]\n",
    "    arr = arr[:length - cnt]\n",
    "    return arr\n",
    "\n",
    "arr = [1,2,3,4,2,5,2,2,6]\n",
    "\n",
    "del_value(arr, 2)            "
   ]
  },
  {
   "cell_type": "code",
   "execution_count": null,
   "id": "61b81c3e",
   "metadata": {},
   "outputs": [],
   "source": []
  },
  {
   "cell_type": "code",
   "execution_count": 9,
   "id": "d084905d",
   "metadata": {},
   "outputs": [
    {
     "data": {
      "text/plain": [
       "[1, 2, 3, 3, 5, 6, 7, 8, 8, 9, 10, 11]"
      ]
     },
     "execution_count": 9,
     "metadata": {},
     "output_type": "execute_result"
    }
   ],
   "source": [
    "# Merge two sorted arrays\n",
    "\n",
    "arr1 = [1,2,3,5,8,9]\n",
    "arr2 = [3,6,7,8,10,11]\n",
    "\n",
    "def sort(arr1, arr2):\n",
    "    length1 = len(arr1)\n",
    "    length2 = len(arr2)\n",
    "    temp_arr = []\n",
    "    i = 0\n",
    "    j = 0\n",
    "    while i < length1 and j < length2:\n",
    "        if arr1[i] <= arr2[j]:\n",
    "            temp_arr.append(arr1[i])\n",
    "            i += 1\n",
    "        else:\n",
    "            temp_arr.append(arr2[j]) \n",
    "            j += 1\n",
    "    if i == length1:\n",
    "        while j < length2:\n",
    "            temp_arr.append(arr2[j])\n",
    "            j += 1\n",
    "    else:\n",
    "        while i < length1:\n",
    "            temp_arr.append(arr1[i])\n",
    "            i += 1\n",
    "    return temp_arr\n",
    "\n",
    "sort(arr1, arr2)"
   ]
  },
  {
   "cell_type": "code",
   "execution_count": null,
   "id": "ba04ac28",
   "metadata": {},
   "outputs": [],
   "source": []
  },
  {
   "cell_type": "code",
   "execution_count": null,
   "id": "87e2f369",
   "metadata": {},
   "outputs": [],
   "source": []
  },
  {
   "cell_type": "code",
   "execution_count": null,
   "id": "2c1f5f01",
   "metadata": {},
   "outputs": [],
   "source": []
  },
  {
   "cell_type": "code",
   "execution_count": null,
   "id": "9dba690a",
   "metadata": {},
   "outputs": [],
   "source": []
  }
 ],
 "metadata": {
  "kernelspec": {
   "display_name": "Python 3",
   "language": "python",
   "name": "python3"
  },
  "language_info": {
   "codemirror_mode": {
    "name": "ipython",
    "version": 3
   },
   "file_extension": ".py",
   "mimetype": "text/x-python",
   "name": "python",
   "nbconvert_exporter": "python",
   "pygments_lexer": "ipython3",
   "version": "3.7.10"
  }
 },
 "nbformat": 4,
 "nbformat_minor": 5
}
