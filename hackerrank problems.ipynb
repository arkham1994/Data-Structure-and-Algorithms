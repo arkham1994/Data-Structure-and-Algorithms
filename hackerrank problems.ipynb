{
 "cells": [
  {
   "cell_type": "code",
   "execution_count": null,
   "id": "f949227e",
   "metadata": {},
   "outputs": [],
   "source": [
    "t = int(input().strip())\n",
    "\n",
    "for t_itr in range(t):\n",
    "    money = int(input().strip())\n",
    "\n",
    "    n = int(input().strip())\n",
    "\n",
    "    cost = list(map(int, input().rstrip().split()))\n",
    "\n",
    "    "
   ]
  },
  {
   "cell_type": "code",
   "execution_count": 3,
   "id": "e26e88c5",
   "metadata": {},
   "outputs": [],
   "source": [
    "lst = list((1,2))"
   ]
  },
  {
   "cell_type": "code",
   "execution_count": 9,
   "id": "41b03985",
   "metadata": {},
   "outputs": [],
   "source": [
    "cost = [2,3,4,1,8]\n",
    "money = 7"
   ]
  },
  {
   "cell_type": "code",
   "execution_count": 18,
   "id": "04e82891",
   "metadata": {},
   "outputs": [],
   "source": [
    "def whatFlavors(cost, money):\n",
    "    k= 0\n",
    "    for i in range(0, len(cost)-1):\n",
    "        for j in range(i+1, len(cost)):\n",
    "            if cost[i] + cost[j] == money:\n",
    "                lst = list((i+1,j+1))\n",
    "                \n",
    "                break\n",
    "            k= k +1    \n",
    "    for value in lst:\n",
    "        print(value, end=' ')   \n",
    "    print(k)"
   ]
  },
  {
   "cell_type": "code",
   "execution_count": 25,
   "id": "b22e5ab0",
   "metadata": {},
   "outputs": [
    {
     "name": "stdout",
     "output_type": "stream",
     "text": [
      "2 3\n"
     ]
    },
    {
     "data": {
      "text/plain": [
       "2"
      ]
     },
     "execution_count": 25,
     "metadata": {},
     "output_type": "execute_result"
    }
   ],
   "source": [
    "whatFlavors(cost, money)"
   ]
  },
  {
   "cell_type": "code",
   "execution_count": 24,
   "id": "33dc4cc8",
   "metadata": {},
   "outputs": [],
   "source": [
    "def whatFlavors(cost, money):\n",
    "    dict_ = {}\n",
    "    \n",
    "    for i in range(0, len(cost)):\n",
    "        x = cost[i]\n",
    "        y = money - x\n",
    "        if y in dict_:\n",
    "            print(str(dict_[y] + 1)+\" \"+str(i+1))\n",
    "            return k\n",
    "        else:\n",
    "            dict_[x] = i\n",
    "            \n",
    "        "
   ]
  },
  {
   "cell_type": "code",
   "execution_count": 43,
   "id": "16f38e21",
   "metadata": {},
   "outputs": [],
   "source": [
    "def alternatingCharacters(s):\n",
    "    s = [i for i in s]\n",
    "    lst= []\n",
    "    for i in range(0, len(s) - 1):\n",
    "        if s[i] == s[i + 1]:\n",
    "            lst.append(i)\n",
    "    i = len(lst) -  1\n",
    "    while i >= 0:\n",
    "        del(s[lst[i]])\n",
    "        i = i - 1\n",
    "    return \"\".join(s)    \n",
    "    "
   ]
  },
  {
   "cell_type": "code",
   "execution_count": 44,
   "id": "25fea3bc",
   "metadata": {},
   "outputs": [],
   "source": [
    "s ='ABBABABABBA'"
   ]
  },
  {
   "cell_type": "code",
   "execution_count": 45,
   "id": "15fce9a8",
   "metadata": {},
   "outputs": [
    {
     "data": {
      "text/plain": [
       "'ABABABABA'"
      ]
     },
     "execution_count": 45,
     "metadata": {},
     "output_type": "execute_result"
    }
   ],
   "source": [
    "alternatingCharacters(s)"
   ]
  },
  {
   "cell_type": "code",
   "execution_count": 35,
   "id": "348bbdf7",
   "metadata": {},
   "outputs": [
    {
     "data": {
      "text/plain": [
       "['x', 'y', 'z']"
      ]
     },
     "execution_count": 35,
     "metadata": {},
     "output_type": "execute_result"
    }
   ],
   "source": [
    "s1 = [x for x in s]\n",
    "s1"
   ]
  },
  {
   "cell_type": "code",
   "execution_count": 32,
   "id": "0d910d5c",
   "metadata": {},
   "outputs": [
    {
     "data": {
      "text/plain": [
       "'xyz'"
      ]
     },
     "execution_count": 32,
     "metadata": {},
     "output_type": "execute_result"
    }
   ],
   "source": [
    "s[0]"
   ]
  },
  {
   "cell_type": "code",
   "execution_count": null,
   "id": "1878784f",
   "metadata": {},
   "outputs": [],
   "source": []
  },
  {
   "cell_type": "code",
   "execution_count": 38,
   "id": "5e5b0b40",
   "metadata": {},
   "outputs": [],
   "source": [
    "del(s1[0])"
   ]
  },
  {
   "cell_type": "code",
   "execution_count": 42,
   "id": "c6b982e6",
   "metadata": {},
   "outputs": [
    {
     "data": {
      "text/plain": [
       "'yz'"
      ]
     },
     "execution_count": 42,
     "metadata": {},
     "output_type": "execute_result"
    }
   ],
   "source": [
    "''.join(s1)"
   ]
  },
  {
   "cell_type": "code",
   "execution_count": 58,
   "id": "54c95d2c",
   "metadata": {},
   "outputs": [
    {
     "data": {
      "text/plain": [
       "{'A', 'a', 'x', 'y', 'z'}"
      ]
     },
     "execution_count": 58,
     "metadata": {},
     "output_type": "execute_result"
    }
   ],
   "source": [
    "set('xyzAa')"
   ]
  },
  {
   "cell_type": "code",
   "execution_count": 48,
   "id": "3b464eea",
   "metadata": {},
   "outputs": [],
   "source": [
    "import math"
   ]
  },
  {
   "cell_type": "code",
   "execution_count": 51,
   "id": "4704c380",
   "metadata": {},
   "outputs": [
    {
     "data": {
      "text/plain": [
       "1"
      ]
     },
     "execution_count": 51,
     "metadata": {},
     "output_type": "execute_result"
    }
   ],
   "source": [
    "ord('b')-97"
   ]
  },
  {
   "cell_type": "code",
   "execution_count": 55,
   "id": "29b98717",
   "metadata": {},
   "outputs": [],
   "source": [
    "s1 = 'kxyl' \n",
    "s2 = 'abcxy'"
   ]
  },
  {
   "cell_type": "code",
   "execution_count": 56,
   "id": "31a08b84",
   "metadata": {},
   "outputs": [],
   "source": [
    "def twoStrings(s1, s2):\n",
    "    \n",
    "    for i in s1:\n",
    "        if i in s2:\n",
    "            return 'YES'\n",
    "    return 'NO'    \n",
    "            "
   ]
  },
  {
   "cell_type": "code",
   "execution_count": 57,
   "id": "bc041518",
   "metadata": {},
   "outputs": [
    {
     "data": {
      "text/plain": [
       "'YES'"
      ]
     },
     "execution_count": 57,
     "metadata": {},
     "output_type": "execute_result"
    }
   ],
   "source": [
    "twoStrings(s1, s2)"
   ]
  },
  {
   "cell_type": "code",
   "execution_count": 61,
   "id": "5235dba2",
   "metadata": {},
   "outputs": [
    {
     "data": {
      "text/plain": [
       "{'bdz', 'xya'}"
      ]
     },
     "execution_count": 61,
     "metadata": {},
     "output_type": "execute_result"
    }
   ],
   "source": [
    "set('xya bdz'.split(' '))"
   ]
  },
  {
   "cell_type": "code",
   "execution_count": 90,
   "id": "f9f6d70d",
   "metadata": {},
   "outputs": [],
   "source": [
    "s1 = ['xyz','kjh','kjg','kjh']\n",
    "s2 = ['xyz','kjh']"
   ]
  },
  {
   "cell_type": "code",
   "execution_count": 87,
   "id": "e702b563",
   "metadata": {},
   "outputs": [],
   "source": [
    "dict1 = {}\n",
    "for x in s1:\n",
    "    dict1[x] = 0"
   ]
  },
  {
   "cell_type": "code",
   "execution_count": 88,
   "id": "119b926b",
   "metadata": {},
   "outputs": [
    {
     "data": {
      "text/plain": [
       "{'xyz': 0, 'kjh': 0, 'kjg': 0}"
      ]
     },
     "execution_count": 88,
     "metadata": {},
     "output_type": "execute_result"
    }
   ],
   "source": [
    "dict1"
   ]
  },
  {
   "cell_type": "code",
   "execution_count": 99,
   "id": "cb54f3e5",
   "metadata": {},
   "outputs": [],
   "source": [
    "def checkMagazine(magazine, note):\n",
    "    dict1 = {}\n",
    "    for x in magazine:\n",
    "        dict1[x] = 0\n",
    "    for value in magazine:\n",
    "        dict1[value] += 1\n",
    "    \n",
    "    dict2 = {}\n",
    "    for x in note:\n",
    "        dict2[x] = 0   \n",
    "    for value in note:\n",
    "        dict2[value] += 1    \n",
    "   \n",
    "    for value in dict2:\n",
    "        if dict2[value] > dict1[value]:\n",
    "            print('No')\n",
    "            break\n",
    "            \n",
    "    print('Yes')\n",
    "    return None\n",
    "        \n",
    "    "
   ]
  },
  {
   "cell_type": "code",
   "execution_count": 100,
   "id": "69da9335",
   "metadata": {},
   "outputs": [
    {
     "name": "stdout",
     "output_type": "stream",
     "text": [
      "Yes\n"
     ]
    }
   ],
   "source": [
    "checkMagazine(s1, s2)"
   ]
  },
  {
   "cell_type": "code",
   "execution_count": 94,
   "id": "0df9be8e",
   "metadata": {},
   "outputs": [],
   "source": [
    "dict1 = {}\n",
    "for x in s1:\n",
    "    dict1[x] = 0\n",
    "for value in s1:\n",
    "    dict1[value] += 1\n",
    "dict2 = {}\n",
    "for x in s2:\n",
    "    dict2[x] = 0\n",
    "for value in s2:\n",
    "    dict2[value] += 1    "
   ]
  },
  {
   "cell_type": "code",
   "execution_count": 96,
   "id": "988959b0",
   "metadata": {},
   "outputs": [
    {
     "data": {
      "text/plain": [
       "{'xyz': 1, 'kjh': 2, 'kjg': 1}"
      ]
     },
     "execution_count": 96,
     "metadata": {},
     "output_type": "execute_result"
    }
   ],
   "source": [
    "dict1"
   ]
  },
  {
   "cell_type": "code",
   "execution_count": 95,
   "id": "a127e674",
   "metadata": {},
   "outputs": [
    {
     "data": {
      "text/plain": [
       "{'xyz': 1, 'kjh': 1}"
      ]
     },
     "execution_count": 95,
     "metadata": {},
     "output_type": "execute_result"
    }
   ],
   "source": [
    "dict2"
   ]
  },
  {
   "cell_type": "code",
   "execution_count": 98,
   "id": "a7cdfeac",
   "metadata": {},
   "outputs": [
    {
     "name": "stdout",
     "output_type": "stream",
     "text": [
      "kjh\n"
     ]
    }
   ],
   "source": [
    "for value in dict2:\n",
    "    if dict2[value] != dict1[value]:\n",
    "        print(value)\n",
    "        "
   ]
  },
  {
   "cell_type": "code",
   "execution_count": null,
   "id": "0a3489c5",
   "metadata": {},
   "outputs": [],
   "source": []
  }
 ],
 "metadata": {
  "kernelspec": {
   "display_name": "Python 3",
   "language": "python",
   "name": "python3"
  },
  "language_info": {
   "codemirror_mode": {
    "name": "ipython",
    "version": 3
   },
   "file_extension": ".py",
   "mimetype": "text/x-python",
   "name": "python",
   "nbconvert_exporter": "python",
   "pygments_lexer": "ipython3",
   "version": "3.7.10"
  }
 },
 "nbformat": 4,
 "nbformat_minor": 5
}
