{
 "cells": [
  {
   "cell_type": "code",
   "execution_count": 1,
   "id": "144c929e",
   "metadata": {},
   "outputs": [],
   "source": [
    "# Linked List"
   ]
  },
  {
   "cell_type": "code",
   "execution_count": 6,
   "id": "ccc40fc6",
   "metadata": {},
   "outputs": [],
   "source": [
    "class Node():\n",
    "    def __init__(self,d,n = None,p = None):\n",
    "        self.data = d\n",
    "        self.next_node = n\n",
    "        self.prev_node = p\n",
    "        \n",
    "    def __str__(self):\n",
    "        return str(self.data)"
   ]
  },
  {
   "cell_type": "code",
   "execution_count": 13,
   "id": "d5f82ccb",
   "metadata": {},
   "outputs": [],
   "source": [
    "class LinkedList():\n",
    "    def __init__(self,root = None):\n",
    "        self.root = root\n",
    "        self.size = 0\n",
    "        \n",
    "    def add(self,item):\n",
    "        new_node = Node(item, self.root)\n",
    "        self.root = new_node\n",
    "        self.size += 1\n",
    "        \n",
    "    def find(self, item):\n",
    "        if self.size == 0:\n",
    "            return None\n",
    "        else:\n",
    "            this_node = self.root\n",
    "            while this_node is not None:\n",
    "                if this_node.data == item:\n",
    "                    return item\n",
    "                else:\n",
    "                    this_node = this_node.next_node\n",
    "        return None\n",
    "    \n",
    "    def remove(self, item):\n",
    "        this_node = self.root\n",
    "        prev_node = None\n",
    "        \n",
    "        while this_node is not None:\n",
    "            if this_node.data == item:\n",
    "                if prev_node is not None:\n",
    "                    prev_node.next_node = this_node.next_node\n",
    "                else:\n",
    "                    self.root = this_node.next_node\n",
    "                self.size = self.size - 1\n",
    "                return True\n",
    "            else:\n",
    "                prev_node = this_node\n",
    "                this_node = this_node.next_node\n",
    "        return False   \n",
    "    \n",
    "    def print_list(self):\n",
    "        this_node = self.root\n",
    "        while this_node is not None:\n",
    "            print(this_node, end ='->')\n",
    "            this_node = this_node.next_node\n",
    "        print('None')\n",
    "                    "
   ]
  },
  {
   "cell_type": "code",
   "execution_count": 14,
   "id": "1cd75e25",
   "metadata": {},
   "outputs": [
    {
     "name": "stdout",
     "output_type": "stream",
     "text": [
      "9->1->6->4->None\n",
      "False\n",
      "True\n",
      "9->1->4->None\n",
      "9\n"
     ]
    }
   ],
   "source": [
    "\n",
    "lst = LinkedList()\n",
    "lst.add(4)\n",
    "lst.add(6)\n",
    "lst.add(1)\n",
    "lst.add(9)\n",
    "lst.print_list()\n",
    "print(lst.remove(8))\n",
    "print(lst.remove(6))\n",
    "lst.print_list()\n",
    "print(lst.find(9))"
   ]
  },
  {
   "cell_type": "code",
   "execution_count": 15,
   "id": "b9582aa4",
   "metadata": {},
   "outputs": [],
   "source": [
    "# Circular Linked List"
   ]
  },
  {
   "cell_type": "code",
   "execution_count": 16,
   "id": "3973eedf",
   "metadata": {},
   "outputs": [],
   "source": [
    "class CircularLinkedList():\n",
    "    def __init__(self,root = None):\n",
    "        self.root = root\n",
    "        self.size = 0\n",
    "        \n",
    "    def add(self,item):\n",
    "        if self.size == 0:\n",
    "            self.root = Node(item)\n",
    "            self.root.next_node = self.root\n",
    "        else:\n",
    "            new_node = Node(item, self.root.next_node)\n",
    "            self.root.next_node = new_node\n",
    "        self.size += 1    \n",
    "        \n",
    "    def find(self, item):\n",
    "        if self.size == 0:\n",
    "            return None\n",
    "        else:\n",
    "            this_node = self.root\n",
    "            while True:\n",
    "                if this_node.data == item:\n",
    "                    return item\n",
    "                elif this_node.next_node == self.root:\n",
    "                    return False\n",
    "                this_node = this_node.next_node\n",
    "                \n",
    "        \n",
    "    \n",
    "    def remove(self, item):\n",
    "        this_node = self.root\n",
    "        prev_node = None\n",
    "        \n",
    "        while True:\n",
    "            if this_node.data == item:\n",
    "                if prev_node is not None:\n",
    "                    prev_node.next_node = this_node.next_node\n",
    "                else:\n",
    "                    while this_node.next_node != self.root:\n",
    "                        this_node = this_node.next_node\n",
    "                    this_node.next_node = self.root.next_node\n",
    "                    self.root = self.root.next_node\n",
    "                self.size -= 1\n",
    "                return True\n",
    "            \n",
    "\n",
    "            elif this_node.next_node == self.root:\n",
    "                return False\n",
    "            prev_node =this_node\n",
    "            this_node = this_node.next_node\n",
    "           \n",
    "    \n",
    "    def print_list(self):\n",
    "        if self.root is None:\n",
    "            return None\n",
    "        this_node = self.root\n",
    "        print(this_node, end ='->')\n",
    "        while this_node.next_node != self.root:\n",
    "            \n",
    "            this_node = this_node.next_node\n",
    "            print(this_node, end ='->')\n",
    "        print()"
   ]
  },
  {
   "cell_type": "code",
   "execution_count": 18,
   "id": "8b24e165",
   "metadata": {},
   "outputs": [
    {
     "name": "stdout",
     "output_type": "stream",
     "text": [
      "4->9->1->6->\n",
      "False\n",
      "True\n",
      "4->9->1->\n",
      "9\n"
     ]
    }
   ],
   "source": [
    "lst = CircularLinkedList()\n",
    "lst.add(4)\n",
    "lst.add(6)\n",
    "lst.add(1)\n",
    "lst.add(9)\n",
    "lst.print_list()\n",
    "print(lst.remove(8))\n",
    "print(lst.remove(6))\n",
    "lst.print_list()\n",
    "print(lst.find(9))"
   ]
  },
  {
   "cell_type": "code",
   "execution_count": 8,
   "id": "285744bf",
   "metadata": {},
   "outputs": [],
   "source": [
    "class node():\n",
    "    def __init__(self, item = None, next_node = None, prev_node = None):\n",
    "        self.item = item\n",
    "        self.next_node = next_node\n",
    "        self.prev_node = prev_node\n",
    "    def __str__(self):\n",
    "        return(str(self.item))"
   ]
  }
 ],
 "metadata": {
  "kernelspec": {
   "display_name": "Python 3",
   "language": "python",
   "name": "python3"
  },
  "language_info": {
   "codemirror_mode": {
    "name": "ipython",
    "version": 3
   },
   "file_extension": ".py",
   "mimetype": "text/x-python",
   "name": "python",
   "nbconvert_exporter": "python",
   "pygments_lexer": "ipython3",
   "version": "3.7.10"
  }
 },
 "nbformat": 4,
 "nbformat_minor": 5
}
